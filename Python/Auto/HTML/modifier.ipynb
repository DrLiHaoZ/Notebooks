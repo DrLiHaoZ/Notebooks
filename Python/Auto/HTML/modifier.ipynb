{
 "cells": [
  {
   "cell_type": "code",
   "execution_count": 77,
   "metadata": {},
   "outputs": [],
   "source": [
    "## 查体和基本操作的处理\n",
    "\n",
    "file =  open(\"./test.html\",'r') \n",
    "lines = file.readlines()\n",
    "\n",
    "#########################################################\n",
    "#基本操作部分重构代码#\n",
    "#注意3.职业素养部分需要手动另起一行\n",
    "for i in range(len(lines)):\n",
    "    if (\"1.\" == lines[i][:2])  or (\"2.\" == lines[i][:2]) or (\"3.\" == lines[i][:2]) or (\"4.\" == lines[i][:2])or (\"5.\" == lines[i][:2]):\n",
    "        lines[i] = \"<strong>\" + lines[i][:-1] + \"</strong>\" + \"\\n\"\n",
    "#给每一行加<p></p>\n",
    "\n",
    "for i in range(len(lines)):\n",
    "    lines[i] = \"<p>\" + lines[i][:] + \"</p>\" + \"\\n\"\n",
    "#########################################################\n",
    "\n",
    "\"\"\"\n",
    "for i in range(len(lines)):\n",
    "    if (\"一、\" in lines[i])  or (\"二、\" in lines[i]) or (\"三、\" in lines[i]) or (\"四、\" in lines[i]) or (\"五、\" in lines[i]) :\n",
    "         lines[i] = \"<h3 style=\\\"background-color:#ddecfc;\\\">\" + lines[i][:-1] + \"</h3>\" + \"\\n\"\n",
    "\"\"\"\n",
    "\n",
    "output = open(\"./output.html\",'w')\n",
    "output.writelines(lines)\n",
    "output.close()\n",
    "file.close()\n"
   ]
  },
  {
   "cell_type": "code",
   "execution_count": 80,
   "metadata": {},
   "outputs": [
    {
     "name": "stdout",
     "output_type": "stream",
     "text": [
      "['一、现病史\\n', '1.根据主诉及相关鉴别询问\\n', '（1）发病的诱因：有无接触过敏原、着凉、感染、劳累、精神紧张。 1.0分\\n', '（2）呼吸困难（喘息）：起病缓急，程度，阵发性或持续性，时间，吸气性或呼气性，加重或缓解因素（与昼夜、气候、环境、用药的关系）。 2.0分\\n', '（3）发热：程度、持续时间、热型，有无畏寒、寒战。 2.0分\\n', '（4）伴随症状：有无咳嗽、咳痰、咯血、胸痛、胸闷，有无心悸、双下肢水肿、出汗、意识障碍。 1.0分\\n', '2.诊疗经过\\n', '（1）是否曾到医院就诊，做过哪些检查：心电图、胸部X线片（或CT）、肺功能、血常规、过敏原试验。 2.0分\\n', '（2）治疗情况：是否使用抗菌、退热、平喘、激素类药物治疗，疗效如何。 1.0分\\n', '3. 一般情况\\n', '（1）\\xa0发病以来饮食、睡眠、大小便、体重等情况。 1.0分\\n', '二、其他相关病史\\n', '（1）有无食物药物过敏史。 0.5分\\n', '（2）鼻炎的诊治情况。有无慢性肺部疾病、心脏病病史。生活、工作环境情况，有无吸烟饮酒嗜好。有无支气管哮喘、过敏性疾病家族史。 2.5分']\n"
     ]
    }
   ],
   "source": [
    "## 病史采集和病例分析的处理\n",
    "\n",
    "# 使用正则表达式来匹配\n",
    "import re\n",
    "file =  open(\"./test.html\",'r') \n",
    "lines = file.readlines()\n",
    "\n",
    "string = []\n",
    "\n",
    "for i in lines:\n",
    "    string.append(i)\n",
    "print(string)\n",
    "\n",
    "matched = []\n",
    "for j in range(len(string)):\n",
    "    sen = string[j][:-1]\n",
    "    if re.match(r'^.、',sen):\n",
    "        sen = \"<h4>\" + sen + \"</h4>\"\n",
    "    if re.match(r'^[0-9].',sen):\n",
    "        sen = \"<strong>\" + sen + \"</strong>\"\n",
    "    if re.match(r'^（',sen):\n",
    "        sen = \"<u>\" + sen + \"</u>\"\n",
    "    \n",
    "    sen = \"<p>\" + sen + \"</p>\" + \"\\n\"\n",
    "    matched.append(sen)\n",
    "\n",
    "\n",
    "\n",
    "output = open(\"./output.html\",'w')\n",
    "output.writelines(matched)\n",
    "output.close()\n",
    "file.close()\n"
   ]
  }
 ],
 "metadata": {
  "interpreter": {
   "hash": "bc00d93549840f82d8acc721d5c7e03f45705ab4bd4c4e913c35136c2ef2ccbe"
  },
  "kernelspec": {
   "display_name": "Python 3.9.7 ('learn')",
   "language": "python",
   "name": "python3"
  },
  "language_info": {
   "codemirror_mode": {
    "name": "ipython",
    "version": 3
   },
   "file_extension": ".py",
   "mimetype": "text/x-python",
   "name": "python",
   "nbconvert_exporter": "python",
   "pygments_lexer": "ipython3",
   "version": "3.9.7"
  },
  "orig_nbformat": 4
 },
 "nbformat": 4,
 "nbformat_minor": 2
}
