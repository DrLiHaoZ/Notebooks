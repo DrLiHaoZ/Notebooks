{
 "cells": [
  {
   "cell_type": "code",
   "execution_count": null,
   "metadata": {},
   "outputs": [],
   "source": [
    "import pytesseract\n",
    "from PIL import Image"
   ]
  },
  {
   "cell_type": "code",
   "execution_count": 3,
   "metadata": {},
   "outputs": [],
   "source": [
    "img = Image.open('./img.PNG')\n"
   ]
  },
  {
   "cell_type": "code",
   "execution_count": 4,
   "metadata": {},
   "outputs": [
    {
     "ename": "TesseractError",
     "evalue": "(1, 'Error opening data file /usr/local/share/tessdata/chi_sim.traineddata Please make sure the TESSDATA_PREFIX environment variable is set to your \"tessdata\" directory. Failed loading language \\'chi_sim\\' Tesseract couldn\\'t load any languages! Could not initialize tesseract.')",
     "output_type": "error",
     "traceback": [
      "\u001b[0;31m---------------------------------------------------------------------------\u001b[0m",
      "\u001b[0;31mTesseractError\u001b[0m                            Traceback (most recent call last)",
      "\u001b[1;32m/Users/lihao/Desktop/MindmapDXY/ReadMe/Python/Auto/OCR/tes.ipynb Cell 3'\u001b[0m in \u001b[0;36m<module>\u001b[0;34m\u001b[0m\n\u001b[0;32m----> <a href='vscode-notebook-cell:/Users/lihao/Desktop/MindmapDXY/ReadMe/Python/Auto/OCR/tes.ipynb#ch0000002?line=0'>1</a>\u001b[0m text \u001b[39m=\u001b[39m pytesseract\u001b[39m.\u001b[39;49mimage_to_string(img,lang\u001b[39m=\u001b[39;49m\u001b[39m'\u001b[39;49m\u001b[39mchi_sim\u001b[39;49m\u001b[39m'\u001b[39;49m)\n",
      "File \u001b[0;32m~/anaconda3/envs/learn/lib/python3.9/site-packages/pytesseract/pytesseract.py:416\u001b[0m, in \u001b[0;36mimage_to_string\u001b[0;34m(image, lang, config, nice, output_type, timeout)\u001b[0m\n\u001b[1;32m    <a href='file:///~/anaconda3/envs/learn/lib/python3.9/site-packages/pytesseract/pytesseract.py?line=410'>411</a>\u001b[0m \u001b[39m\"\"\"\u001b[39;00m\n\u001b[1;32m    <a href='file:///~/anaconda3/envs/learn/lib/python3.9/site-packages/pytesseract/pytesseract.py?line=411'>412</a>\u001b[0m \u001b[39mReturns the result of a Tesseract OCR run on the provided image to string\u001b[39;00m\n\u001b[1;32m    <a href='file:///~/anaconda3/envs/learn/lib/python3.9/site-packages/pytesseract/pytesseract.py?line=412'>413</a>\u001b[0m \u001b[39m\"\"\"\u001b[39;00m\n\u001b[1;32m    <a href='file:///~/anaconda3/envs/learn/lib/python3.9/site-packages/pytesseract/pytesseract.py?line=413'>414</a>\u001b[0m args \u001b[39m=\u001b[39m [image, \u001b[39m'\u001b[39m\u001b[39mtxt\u001b[39m\u001b[39m'\u001b[39m, lang, config, nice, timeout]\n\u001b[0;32m--> <a href='file:///~/anaconda3/envs/learn/lib/python3.9/site-packages/pytesseract/pytesseract.py?line=415'>416</a>\u001b[0m \u001b[39mreturn\u001b[39;00m {\n\u001b[1;32m    <a href='file:///~/anaconda3/envs/learn/lib/python3.9/site-packages/pytesseract/pytesseract.py?line=416'>417</a>\u001b[0m     Output\u001b[39m.\u001b[39;49mBYTES: \u001b[39mlambda\u001b[39;49;00m: run_and_get_output(\u001b[39m*\u001b[39;49m(args \u001b[39m+\u001b[39;49m [\u001b[39mTrue\u001b[39;49;00m])),\n\u001b[1;32m    <a href='file:///~/anaconda3/envs/learn/lib/python3.9/site-packages/pytesseract/pytesseract.py?line=417'>418</a>\u001b[0m     Output\u001b[39m.\u001b[39;49mDICT: \u001b[39mlambda\u001b[39;49;00m: {\u001b[39m'\u001b[39;49m\u001b[39mtext\u001b[39;49m\u001b[39m'\u001b[39;49m: run_and_get_output(\u001b[39m*\u001b[39;49margs)},\n\u001b[1;32m    <a href='file:///~/anaconda3/envs/learn/lib/python3.9/site-packages/pytesseract/pytesseract.py?line=418'>419</a>\u001b[0m     Output\u001b[39m.\u001b[39;49mSTRING: \u001b[39mlambda\u001b[39;49;00m: run_and_get_output(\u001b[39m*\u001b[39;49margs),\n\u001b[1;32m    <a href='file:///~/anaconda3/envs/learn/lib/python3.9/site-packages/pytesseract/pytesseract.py?line=419'>420</a>\u001b[0m }[output_type]()\n",
      "File \u001b[0;32m~/anaconda3/envs/learn/lib/python3.9/site-packages/pytesseract/pytesseract.py:419\u001b[0m, in \u001b[0;36mimage_to_string.<locals>.<lambda>\u001b[0;34m()\u001b[0m\n\u001b[1;32m    <a href='file:///~/anaconda3/envs/learn/lib/python3.9/site-packages/pytesseract/pytesseract.py?line=410'>411</a>\u001b[0m \u001b[39m\"\"\"\u001b[39;00m\n\u001b[1;32m    <a href='file:///~/anaconda3/envs/learn/lib/python3.9/site-packages/pytesseract/pytesseract.py?line=411'>412</a>\u001b[0m \u001b[39mReturns the result of a Tesseract OCR run on the provided image to string\u001b[39;00m\n\u001b[1;32m    <a href='file:///~/anaconda3/envs/learn/lib/python3.9/site-packages/pytesseract/pytesseract.py?line=412'>413</a>\u001b[0m \u001b[39m\"\"\"\u001b[39;00m\n\u001b[1;32m    <a href='file:///~/anaconda3/envs/learn/lib/python3.9/site-packages/pytesseract/pytesseract.py?line=413'>414</a>\u001b[0m args \u001b[39m=\u001b[39m [image, \u001b[39m'\u001b[39m\u001b[39mtxt\u001b[39m\u001b[39m'\u001b[39m, lang, config, nice, timeout]\n\u001b[1;32m    <a href='file:///~/anaconda3/envs/learn/lib/python3.9/site-packages/pytesseract/pytesseract.py?line=415'>416</a>\u001b[0m \u001b[39mreturn\u001b[39;00m {\n\u001b[1;32m    <a href='file:///~/anaconda3/envs/learn/lib/python3.9/site-packages/pytesseract/pytesseract.py?line=416'>417</a>\u001b[0m     Output\u001b[39m.\u001b[39mBYTES: \u001b[39mlambda\u001b[39;00m: run_and_get_output(\u001b[39m*\u001b[39m(args \u001b[39m+\u001b[39m [\u001b[39mTrue\u001b[39;00m])),\n\u001b[1;32m    <a href='file:///~/anaconda3/envs/learn/lib/python3.9/site-packages/pytesseract/pytesseract.py?line=417'>418</a>\u001b[0m     Output\u001b[39m.\u001b[39mDICT: \u001b[39mlambda\u001b[39;00m: {\u001b[39m'\u001b[39m\u001b[39mtext\u001b[39m\u001b[39m'\u001b[39m: run_and_get_output(\u001b[39m*\u001b[39margs)},\n\u001b[0;32m--> <a href='file:///~/anaconda3/envs/learn/lib/python3.9/site-packages/pytesseract/pytesseract.py?line=418'>419</a>\u001b[0m     Output\u001b[39m.\u001b[39mSTRING: \u001b[39mlambda\u001b[39;00m: run_and_get_output(\u001b[39m*\u001b[39;49margs),\n\u001b[1;32m    <a href='file:///~/anaconda3/envs/learn/lib/python3.9/site-packages/pytesseract/pytesseract.py?line=419'>420</a>\u001b[0m }[output_type]()\n",
      "File \u001b[0;32m~/anaconda3/envs/learn/lib/python3.9/site-packages/pytesseract/pytesseract.py:286\u001b[0m, in \u001b[0;36mrun_and_get_output\u001b[0;34m(image, extension, lang, config, nice, timeout, return_bytes)\u001b[0m\n\u001b[1;32m    <a href='file:///~/anaconda3/envs/learn/lib/python3.9/site-packages/pytesseract/pytesseract.py?line=274'>275</a>\u001b[0m \u001b[39mwith\u001b[39;00m save(image) \u001b[39mas\u001b[39;00m (temp_name, input_filename):\n\u001b[1;32m    <a href='file:///~/anaconda3/envs/learn/lib/python3.9/site-packages/pytesseract/pytesseract.py?line=275'>276</a>\u001b[0m     kwargs \u001b[39m=\u001b[39m {\n\u001b[1;32m    <a href='file:///~/anaconda3/envs/learn/lib/python3.9/site-packages/pytesseract/pytesseract.py?line=276'>277</a>\u001b[0m         \u001b[39m'\u001b[39m\u001b[39minput_filename\u001b[39m\u001b[39m'\u001b[39m: input_filename,\n\u001b[1;32m    <a href='file:///~/anaconda3/envs/learn/lib/python3.9/site-packages/pytesseract/pytesseract.py?line=277'>278</a>\u001b[0m         \u001b[39m'\u001b[39m\u001b[39moutput_filename_base\u001b[39m\u001b[39m'\u001b[39m: temp_name,\n\u001b[0;32m   (...)\u001b[0m\n\u001b[1;32m    <a href='file:///~/anaconda3/envs/learn/lib/python3.9/site-packages/pytesseract/pytesseract.py?line=282'>283</a>\u001b[0m         \u001b[39m'\u001b[39m\u001b[39mtimeout\u001b[39m\u001b[39m'\u001b[39m: timeout,\n\u001b[1;32m    <a href='file:///~/anaconda3/envs/learn/lib/python3.9/site-packages/pytesseract/pytesseract.py?line=283'>284</a>\u001b[0m     }\n\u001b[0;32m--> <a href='file:///~/anaconda3/envs/learn/lib/python3.9/site-packages/pytesseract/pytesseract.py?line=285'>286</a>\u001b[0m     run_tesseract(\u001b[39m*\u001b[39;49m\u001b[39m*\u001b[39;49mkwargs)\n\u001b[1;32m    <a href='file:///~/anaconda3/envs/learn/lib/python3.9/site-packages/pytesseract/pytesseract.py?line=286'>287</a>\u001b[0m     filename \u001b[39m=\u001b[39m kwargs[\u001b[39m'\u001b[39m\u001b[39moutput_filename_base\u001b[39m\u001b[39m'\u001b[39m] \u001b[39m+\u001b[39m extsep \u001b[39m+\u001b[39m extension\n\u001b[1;32m    <a href='file:///~/anaconda3/envs/learn/lib/python3.9/site-packages/pytesseract/pytesseract.py?line=287'>288</a>\u001b[0m     \u001b[39mwith\u001b[39;00m \u001b[39mopen\u001b[39m(filename, \u001b[39m'\u001b[39m\u001b[39mrb\u001b[39m\u001b[39m'\u001b[39m) \u001b[39mas\u001b[39;00m output_file:\n",
      "File \u001b[0;32m~/anaconda3/envs/learn/lib/python3.9/site-packages/pytesseract/pytesseract.py:262\u001b[0m, in \u001b[0;36mrun_tesseract\u001b[0;34m(input_filename, output_filename_base, extension, lang, config, nice, timeout)\u001b[0m\n\u001b[1;32m    <a href='file:///~/anaconda3/envs/learn/lib/python3.9/site-packages/pytesseract/pytesseract.py?line=259'>260</a>\u001b[0m \u001b[39mwith\u001b[39;00m timeout_manager(proc, timeout) \u001b[39mas\u001b[39;00m error_string:\n\u001b[1;32m    <a href='file:///~/anaconda3/envs/learn/lib/python3.9/site-packages/pytesseract/pytesseract.py?line=260'>261</a>\u001b[0m     \u001b[39mif\u001b[39;00m proc\u001b[39m.\u001b[39mreturncode:\n\u001b[0;32m--> <a href='file:///~/anaconda3/envs/learn/lib/python3.9/site-packages/pytesseract/pytesseract.py?line=261'>262</a>\u001b[0m         \u001b[39mraise\u001b[39;00m TesseractError(proc\u001b[39m.\u001b[39mreturncode, get_errors(error_string))\n",
      "\u001b[0;31mTesseractError\u001b[0m: (1, 'Error opening data file /usr/local/share/tessdata/chi_sim.traineddata Please make sure the TESSDATA_PREFIX environment variable is set to your \"tessdata\" directory. Failed loading language \\'chi_sim\\' Tesseract couldn\\'t load any languages! Could not initialize tesseract.')"
     ]
    }
   ],
   "source": [
    "text = pytesseract.image_to_string(img,lang='chi_sim')"
   ]
  }
 ],
 "metadata": {
  "interpreter": {
   "hash": "bc00d93549840f82d8acc721d5c7e03f45705ab4bd4c4e913c35136c2ef2ccbe"
  },
  "kernelspec": {
   "display_name": "Python 3.9.7 ('learn')",
   "language": "python",
   "name": "python3"
  },
  "language_info": {
   "codemirror_mode": {
    "name": "ipython",
    "version": 3
   },
   "file_extension": ".py",
   "mimetype": "text/x-python",
   "name": "python",
   "nbconvert_exporter": "python",
   "pygments_lexer": "ipython3",
   "version": "3.9.7"
  },
  "orig_nbformat": 4
 },
 "nbformat": 4,
 "nbformat_minor": 2
}
