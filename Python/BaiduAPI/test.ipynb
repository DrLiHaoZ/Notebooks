{
 "cells": [
  {
   "cell_type": "code",
   "execution_count": 3,
   "metadata": {},
   "outputs": [
    {
     "data": {
      "text/plain": [
       "<Response [400]>"
      ]
     },
     "execution_count": 3,
     "metadata": {},
     "output_type": "execute_result"
    }
   ],
   "source": [
    "import urllib\n",
    "import base64\n",
    "import requests\n",
    "\n",
    "url = \"http://alinlp.cn-hangzhou.aliyuncs.com/\"\n",
    "\n",
    "param = {\n",
    "    \"Text\":\"今天测试一下\",\n",
    "    \"Action\":\"GetEcChGenera\",\n",
    "    \"ServiceCode\":\"alinlp\",\n",
    "\n",
    "}\n",
    "\n",
    "# 发送http请求\n",
    "reponse = requests.get(url, param)\n",
    "reponse\n",
    "\n",
    "\n",
    "\n",
    "\n"
   ]
  },
  {
   "cell_type": "code",
   "execution_count": 30,
   "metadata": {},
   "outputs": [],
   "source": [
    "import urllib\n",
    "import base64\n",
    "import requests\n",
    "import datetime\n",
    "import uuid\n",
    "import hashlib\n",
    "import hmac\n",
    "\n",
    "url = \"http://alinlp.cn-hangzhou.aliyuncs.com/\"\n",
    "AccessKeyId = \"\"\n",
    "AccessKeySecret = \"\"\n",
    "# 准备公共参数和API对应的参数，这里以词性标注--通用为例\n",
    "# 注意，这里并没有Signature参数哦\n",
    "param = {\n",
    "    \"Format\":\"json\",\n",
    "    \"Version\":\"2020-06-29\",\n",
    "    \"AccessKeyId\":AccessKeyId,\n",
    "    \"SignatureMethod\":\"HMAC-SHA1\",\n",
    "    \"Timestamp\":(datetime.datetime.now() - datetime.timedelta(hours=8)).strftime(\"%Y-%m-%dT%H:%M:%SZ\"),\n",
    "    \"SignatureVersion\":\"1.0\",\n",
    "    \"SignatureNonce\":uuid.uuid4().hex,\n",
    "    \"Text\":\"根据该患者实验室检查结果，低钾血症，高钠血症，以及主诉烦渴，多尿，肌无力2年，考虑为原发性醛固酮增多症。因为醛固酮主要作用是保钠排钾，醛固酮增多会导致起潴钠、排钾；慢性失钾导致肾小管上皮细胞呈空泡样变性，浓缩功能减退，伴多尿，继发口渴；血钾愈低 ，肌肉受累愈重，表现为肌无力；与患者表现相符，故考虑诊断为原发性醛固酮增多症\",\n",
    "    \"TokenizerId\":\"MAINSE\",\n",
    "    \"Action\":\"GetEcChGeneral\",\n",
    "    \"ServiceCode\":\"alinlp\"\n",
    "}\n",
    "# 对参数按照key进行排序\n",
    "param_list = sorted(param.items(), key=lambda x:x[0])\n",
    "# 将key-value转化为url的形式\n",
    "StringToSign = urllib.parse.urlencode(param_list)\n",
    "# AccessKeyId=LTXXXXkey&Action=GetPosChEcom&Format=json&ServiceCode=alinlp&SignatureMethod=HMAC-SHA1&SignatureNonce=5c901f6ebac94f7196ba651b838c13d9&SignatureVersion=1.0&Text=%E4%BB%8A%E5%A4%A9%E6%B5%8B%E8%AF%95%E4%B8%80%E4%B8%8B&Timestamp=2020-08-26T14%3A01%3A48Z&TokenizerId=MAINSE&Version=2020-06-29\n",
    "# 做urlencode\n",
    "StringToSign = urllib.parse.quote(StringToSign)\n",
    "# AccessKeyId%3DLTXXXXkey&Action%3DGetPosChEcom&Format%3Djson&ServiceCode%3Dalinlp&SignatureMethod%3DHMAC-SHA1&SignatureNonce%3D5c901f6ebac94f7196ba651b838c13d9&SignatureVersion%3D1.0&Text%3D%25E4%25BB%258A%25E5%25A4%25A9%25E6%25B5%258B%25E8%25AF%2595%25E4%25B8%2580%25E4%25B8%258B&Timestamp%3D2020-08-26T14%253A01%253A48Z&TokenizerId%3DMAINSE&Version%3D2020-06-29\n",
    "# 拼接头\n",
    "StringToSign = \"GET&%2F&\" + StringToSign\n",
    "# 拼接SHA1对应的key\n",
    "secret = AccessKeySecret + \"&\"\n",
    "# 计算SHA1值，并做base64\n",
    "sig = base64.b64encode(hmac.new(secret.encode(\"utf-8\") , StringToSign.encode(\"utf-8\"), hashlib.sha1).digest())\n",
    "# 将Signature添加到参数中\n",
    "param[\"Signature\"] = bytes.decode(sig)\n",
    "# 发送http请求\n",
    "reponse = requests.get(url, param)\n",
    "\n",
    "\n",
    "class ErrorDetect():\n",
    "    pass\n"
   ]
  },
  {
   "cell_type": "code",
   "execution_count": 31,
   "metadata": {},
   "outputs": [
    {
     "data": {
      "text/plain": [
       "'{\"RequestId\":\"6A6E2FD5-D7C1-51EA-B71B-D0E47064BA78\",\"Message\":\"AccessKeyId is mandatory for this action.\",\"Recommend\":\"https://error-center.aliyun.com/status/search?Keyword=MissingAccessKeyId&source=PopGw\",\"HostId\":\"alinlp.cn-hangzhou.aliyuncs.com\",\"Code\":\"MissingAccessKeyId\"}'"
      ]
     },
     "execution_count": 31,
     "metadata": {},
     "output_type": "execute_result"
    }
   ],
   "source": [
    "reponse\n",
    "reponse.content.decode(\"utf-8\")\n"
   ]
  },
  {
   "cell_type": "markdown",
   "metadata": {},
   "source": []
  }
 ],
 "metadata": {
  "interpreter": {
   "hash": "bc00d93549840f82d8acc721d5c7e03f45705ab4bd4c4e913c35136c2ef2ccbe"
  },
  "kernelspec": {
   "display_name": "Python 3.9.7 ('learn')",
   "language": "python",
   "name": "python3"
  },
  "language_info": {
   "codemirror_mode": {
    "name": "ipython",
    "version": 3
   },
   "file_extension": ".py",
   "mimetype": "text/x-python",
   "name": "python",
   "nbconvert_exporter": "python",
   "pygments_lexer": "ipython3",
   "version": "3.9.7"
  },
  "orig_nbformat": 4
 },
 "nbformat": 4,
 "nbformat_minor": 2
}
