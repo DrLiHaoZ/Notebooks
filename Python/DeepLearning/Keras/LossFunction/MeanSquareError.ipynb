{
 "cells": [
  {
   "cell_type": "code",
   "execution_count": 1,
   "metadata": {},
   "outputs": [],
   "source": [
    "import matplotlib.pyplot as plt\n",
    "import numpy as np\n",
    "import tensorflow as tf\n",
    "from tensorflow import keras"
   ]
  },
  {
   "cell_type": "code",
   "execution_count": 12,
   "metadata": {},
   "outputs": [],
   "source": [
    "# loss = square(y_true - y_pred)\n",
    "\n",
    "y_true = tf.constant(np.array([[1,2,3]]))\n",
    "y_pred = tf.constant(np.array([[2,3,4]]))"
   ]
  },
  {
   "cell_type": "code",
   "execution_count": 13,
   "metadata": {},
   "outputs": [
    {
     "name": "stdout",
     "output_type": "stream",
     "text": [
      "1\n"
     ]
    }
   ],
   "source": [
    "mse = keras.losses.MeanSquaredError()\n",
    "mse_res = mse(y_pred,y_true).numpy()\n",
    "print(mse_res)"
   ]
  },
  {
   "cell_type": "code",
   "execution_count": 14,
   "metadata": {},
   "outputs": [
    {
     "data": {
      "text/plain": [
       "<tf.Tensor: shape=(), dtype=int64, numpy=1>"
      ]
     },
     "execution_count": 14,
     "metadata": {},
     "output_type": "execute_result"
    }
   ],
   "source": [
    "#手动计算\n",
    "tf.reduce_mean(tf.square(y_pred-y_true))"
   ]
  }
 ],
 "metadata": {
  "interpreter": {
   "hash": "9459a53bdc2009ce6d8e3ef4e07565d48ab3c1d31bf1b7e7e71beae10aec4fc4"
  },
  "kernelspec": {
   "display_name": "Python 3.9.10 ('base')",
   "language": "python",
   "name": "python3"
  },
  "language_info": {
   "codemirror_mode": {
    "name": "ipython",
    "version": 3
   },
   "file_extension": ".py",
   "mimetype": "text/x-python",
   "name": "python",
   "nbconvert_exporter": "python",
   "pygments_lexer": "ipython3",
   "version": "3.9.10"
  },
  "orig_nbformat": 4
 },
 "nbformat": 4,
 "nbformat_minor": 2
}
