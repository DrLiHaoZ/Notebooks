{
 "cells": [
  {
   "cell_type": "code",
   "execution_count": 12,
   "metadata": {},
   "outputs": [],
   "source": [
    "import numpy as np\n",
    "import math\n",
    "import matplotlib.pyplot as plt\n",
    "import pandas as pd\n",
    "\n",
    "X_raw = np.array([2013, 2014, 2015, 2016, 2017], dtype=np.int)\n",
    "y_raw = np.array([12000, 14000, 15000, 16000, 17500], dtype=np.float32)\n",
    "# min max normalization 可以加速函数的收敛\n",
    "X = (X_raw - X_raw.min())/(X_raw.max() - X_raw.min())\n",
    "y = (y_raw - y_raw.min())/(y_raw.max() - y_raw.min())\n",
    "\n",
    "# 这里遗留一个问题，就是normalization之后回归的系数也会相应的变化，得出的a,b如何还原到之前呢"
   ]
  },
  {
   "cell_type": "markdown",
   "metadata": {},
   "source": [
    "损失函数为：\n",
    "\n",
    " $min_{a,b}L(a,b)=\\sum_{i=1}^{N}(ax_i+b-y_i)^2$"
   ]
  },
  {
   "cell_type": "markdown",
   "metadata": {},
   "source": [
    "a的偏导数为：\n",
    "\n",
    "$\\frac{\\partial L}{\\partial a} = \\sum_{i=1}^{N}2(ax_i+b-y_i)x_i$"
   ]
  },
  {
   "cell_type": "markdown",
   "metadata": {},
   "source": [
    "b的偏导数为：\n",
    "\n",
    "$\\frac{\\partial L}{\\partial b} = \\sum_{i=1}^{N} 2(ax_i+b-y_i)$"
   ]
  },
  {
   "cell_type": "code",
   "execution_count": 13,
   "metadata": {},
   "outputs": [],
   "source": [
    "a,b = 0,0\n",
    "epoch = 1000000\n",
    "learning_rate = 0.0001\n",
    "\n",
    "for i in range(epoch):\n",
    "    y_pred = a * X + b\n",
    "    # 获得偏导数\n",
    "    grad_a = 2 * np.dot((y_pred - y_raw),X_raw)\n",
    "    grad_b = 2 * np.dot((y_pred - y_raw),np.ones(X_raw.shape))\n",
    "    # 更新参数\n",
    "    a = a - learning_rate * grad_a\n",
    "    b = b - learning_rate * grad_b\n"
   ]
  },
  {
   "cell_type": "code",
   "execution_count": 14,
   "metadata": {},
   "outputs": [
    {
     "name": "stdout",
     "output_type": "stream",
     "text": [
      "20161.93736505294 4815.322357454489\n"
     ]
    }
   ],
   "source": [
    "print(a,b)"
   ]
  },
  {
   "cell_type": "code",
   "execution_count": 19,
   "metadata": {},
   "outputs": [
    {
     "data": {
      "text/plain": [
       "[<matplotlib.lines.Line2D at 0x7fb63fd00940>]"
      ]
     },
     "execution_count": 19,
     "metadata": {},
     "output_type": "execute_result"
    },
    {
     "data": {
      "image/png": "[encoded data removed]",
      "text/plain": [
       "<Figure size 432x288 with 4 Axes>"
      ]
     },
     "metadata": {
      "needs_background": "light"
     },
     "output_type": "display_data"
    }
   ],
   "source": [
    "pred_y = X * a + b\n",
    "\n",
    "fig,axs = plt.subplots(2,2)\n",
    "axs[0,0].plot(X_raw,y_raw,'b-')\n",
    "axs[0,1].plot(X_raw,pred_y,'r-')\n",
    "axs[1,0].plot(X_raw,y_raw,'b-')\n",
    "axs[1,0].plot(X_raw, pred_y, 'r-')\n"
   ]
  }
 ],
 "metadata": {
  "interpreter": {
   "hash": "5bb6dbbe88fcdce4ecef9aa52b6a97bbb516d58d945fae59c885187edba63ce9"
  },
  "kernelspec": {
   "display_name": "Python 3.6.13 64-bit ('nlp': conda)",
   "language": "python",
   "name": "python3"
  },
  "language_info": {
   "codemirror_mode": {
    "name": "ipython",
    "version": 3
   },
   "file_extension": ".py",
   "mimetype": "text/x-python",
   "name": "python",
   "nbconvert_exporter": "python",
   "pygments_lexer": "ipython3",
   "version": "3.9.7"
  },
  "orig_nbformat": 4
 },
 "nbformat": 4,
 "nbformat_minor": 2
}
