{
 "cells": [
  {
   "cell_type": "code",
   "execution_count": 11,
   "metadata": {},
   "outputs": [],
   "source": [
    "import tensorflow as tf\n",
    "import numpy as np\n",
    "import math "
   ]
  },
  {
   "cell_type": "code",
   "execution_count": 3,
   "metadata": {},
   "outputs": [
    {
     "data": {
      "text/plain": [
       "<tf.Tensor: shape=(10,), dtype=int64, numpy=array([ 1,  2,  3,  4,  5,  6,  7,  8,  9, 10])>"
      ]
     },
     "execution_count": 3,
     "metadata": {},
     "output_type": "execute_result"
    }
   ],
   "source": [
    "# create a new tensor\n",
    "a = tf.constant(np.arange(start = 1,stop = 11,step = 1))\n",
    "a"
   ]
  },
  {
   "cell_type": "code",
   "execution_count": 5,
   "metadata": {},
   "outputs": [
    {
     "name": "stdout",
     "output_type": "stream",
     "text": [
      "original tensor is :\n",
      " tf.Tensor([ 1  2  3  4  5  6  7  8  9 10], shape=(10,), dtype=int64)\n",
      "\n",
      " squared tensor is:\n",
      " tf.Tensor([  1   4   9  16  25  36  49  64  81 100], shape=(10,), dtype=int64)\n"
     ]
    }
   ],
   "source": [
    "# square the tensor\n",
    "print(\"original tensor is :\\n\",a)\n",
    "print(\"\\n squared tensor is:\\n\",tf.math.square(a))"
   ]
  },
  {
   "cell_type": "code",
   "execution_count": 7,
   "metadata": {},
   "outputs": [
    {
     "name": "stdout",
     "output_type": "stream",
     "text": [
      "original tensor is :\n",
      " tf.Tensor([ 1  2  3  4  5  6  7  8  9 10], shape=(10,), dtype=int64)\n",
      "\n",
      " squared tensor is:\n",
      " tf.Tensor(\n",
      "[0.99999994 1.4142134  1.7320508  1.9999999  2.236068   2.4494896\n",
      " 2.6457512  2.8284268  3.         3.1622777 ], shape=(10,), dtype=float32)\n"
     ]
    }
   ],
   "source": [
    "# square root of tensor\n",
    "print(\"original tensor is :\\n\", a)\n",
    "print(\"\\n squared tensor is:\\n\", tf.math.sqrt(tf.cast(a,dtype = tf.float32)))\n",
    "# sqrt need dtype to be float, so you should use cast function to change the dtye"
   ]
  },
  {
   "cell_type": "code",
   "execution_count": 9,
   "metadata": {},
   "outputs": [
    {
     "name": "stdout",
     "output_type": "stream",
     "text": [
      "to figure out the truth of < 5 :\n",
      " tf.Tensor([ True  True  True  True False False False False False False], shape=(10,), dtype=bool)\n"
     ]
    }
   ],
   "source": [
    "# tf.math.less : Returns the truth value of (x < y) element-wise.\n",
    "print('to figure out the truth of < 5 :\\n', tf.math.less(a,5))"
   ]
  },
  {
   "cell_type": "code",
   "execution_count": 30,
   "metadata": {},
   "outputs": [
    {
     "name": "stdout",
     "output_type": "stream",
     "text": [
      "tf.Tensor([0.99999994], shape=(1,), dtype=float32)\n",
      "the original tensor is :\n",
      " tf.Tensor([ 1  2  3  4  5  6  7  8  9 10], shape=(10,), dtype=int64)\n",
      "the log of the tensor is :\n",
      " tf.Tensor(\n",
      "[0.         0.69314718 1.09861229 1.38629436 1.60943791 1.79175947\n",
      " 1.94591015 2.07944154 2.19722458 2.30258509], shape=(10,), dtype=float64)\n",
      "\n",
      " [0.0, 0.6931471805599453, 1.0986122886681098, 1.3862943611198906, 1.6094379124341003, 1.791759469228055, 1.9459101490553132, 2.0794415416798357, 2.1972245773362196, 2.302585092994046]\n",
      "the original tensor is :\n",
      " tf.Tensor([ 1  2  3  4  5  6  7  8  9 10], shape=(10,), dtype=int64)\n",
      "the log2(x) of the tensor is :\n",
      " tf.Tensor(\n",
      "[0.        1.        1.5849625 2.        2.321928  2.5849626 2.807355\n",
      " 3.        3.169925  3.321928 ], shape=(10,), dtype=float32)\n",
      "\n",
      " [0.0, 1.0, 1.5849625007211563, 2.0, 2.321928094887362, 2.584962500721156, 2.807354922057604, 3.0, 3.1699250014423126, 3.3219280948873626]\n",
      "\n",
      " [0.0, 1.0, 1.584962500721156, 2.0, 2.321928094887362, 2.584962500721156, 2.807354922057604, 3.0, 3.169925001442312, 3.321928094887362]\n"
     ]
    }
   ],
   "source": [
    "# tf.math.log function deault base is e\n",
    "print(tf.math.log([math.e]))\n",
    "print(\"the original tensor is :\\n\",a)\n",
    "print(\"the log of the tensor is :\\n\",tf.math.log(tf.cast(a,dtype = tf.float64)))\n",
    "print('\\n',[math.log(i+1) for i in range(10)]) # calculate the ln(x) using math\n",
    "\n",
    "## calculate log2(x)\n",
    "print(\"the original tensor is :\\n\",a)\n",
    "print(\"the log2(x) of the tensor is :\\n\",tf.math.log(tf.cast(a,dtype = tf.float32))/math.log(2))\n",
    "print('\\n',[math.log(i+1)/math.log(2) for i in range(10)]) \n",
    "print('\\n', [math.log2(i+1) for i in range(10)])"
   ]
  },
  {
   "cell_type": "code",
   "execution_count": null,
   "metadata": {},
   "outputs": [],
   "source": []
  }
 ],
 "metadata": {
  "interpreter": {
   "hash": "1513c558104143c9342deba70e5828cd4c39a134479ea9220253fbe85c0c4494"
  },
  "kernelspec": {
   "display_name": "Python 3.9.7 64-bit ('nlp': conda)",
   "language": "python",
   "name": "python3"
  },
  "language_info": {
   "codemirror_mode": {
    "name": "ipython",
    "version": 3
   },
   "file_extension": ".py",
   "mimetype": "text/x-python",
   "name": "python",
   "nbconvert_exporter": "python",
   "pygments_lexer": "ipython3",
   "version": "3.9.7"
  },
  "orig_nbformat": 4
 },
 "nbformat": 4,
 "nbformat_minor": 2
}
