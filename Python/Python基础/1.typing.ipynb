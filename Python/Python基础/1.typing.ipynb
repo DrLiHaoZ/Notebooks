{
 "cells": [
  {
   "cell_type": "code",
   "execution_count": 1,
   "metadata": {},
   "outputs": [
    {
     "name": "stdout",
     "output_type": "stream",
     "text": [
      "9\n"
     ]
    }
   ],
   "source": [
    "def add_nermber(a:int,b:int,c:int)->int:\n",
    "    return a + b + c\n",
    "add_nermber(1,2,3)\n",
    "\n",
    "\n",
    "def add_nermber2(a: int, b: int, c: int) -> None:\n",
    "    print(a + b + c)\n",
    "add_nermber2(2,3,4)"
   ]
  },
  {
   "cell_type": "code",
   "execution_count": 3,
   "metadata": {},
   "outputs": [],
   "source": [
    " # more complicated type\n",
    "from typing import List,Dict,Set\n",
    "x:List[List[int]] = [] #将x定义为值为整数的二维数组\n",
    "y:Dict[str,str] = {\"a\":\"b\"}\n",
    "z:Set[str] = {\"a\",\"b\"}\n"
   ]
  },
  {
   "cell_type": "code",
   "execution_count": 7,
   "metadata": {},
   "outputs": [
    {
     "name": "stdout",
     "output_type": "stream",
     "text": [
      "[1, 1, 3]\n"
     ]
    }
   ],
   "source": [
    "# create our own type\n",
    "from typing import List\n",
    "Vector = List[float]\n",
    "Vectors = List[Vector]\n",
    "def foo(v:Vectors,number:int) -> Vector:\n",
    "    return v[number]\n",
    "\n",
    "result = foo([[1,1,3],[2,3,4]],0)\n",
    "print(result)"
   ]
  },
  {
   "cell_type": "code",
   "execution_count": 8,
   "metadata": {},
   "outputs": [],
   "source": [
    "# sequence\n",
    "from typing import Sequence\n",
    "def foo(seq:Sequence[str]) -> None:\n",
    "    pass\n",
    "\n",
    "foo(('1','2'))"
   ]
  },
  {
   "cell_type": "code",
   "execution_count": 11,
   "metadata": {},
   "outputs": [
    {
     "name": "stdout",
     "output_type": "stream",
     "text": [
      "3\n"
     ]
    }
   ],
   "source": [
    "# callable \n",
    "from typing import Callable\n",
    "def foo(func:Callable[[int,int],int]):\n",
    "    print(func(1, 2))\n",
    "\n",
    "def add(x:int, y:int) -> int:\n",
    "    return x + y\n",
    "\n",
    "foo(add)"
   ]
  },
  {
   "cell_type": "code",
   "execution_count": null,
   "metadata": {},
   "outputs": [],
   "source": [
    "# generic function\n"
   ]
  }
 ],
 "metadata": {
  "kernelspec": {
   "display_name": "Python 3.6.13 ('nlp')",
   "language": "python",
   "name": "python3"
  },
  "language_info": {
   "codemirror_mode": {
    "name": "ipython",
    "version": 3
   },
   "file_extension": ".py",
   "mimetype": "text/x-python",
   "name": "python",
   "nbconvert_exporter": "python",
   "pygments_lexer": "ipython3",
   "version": "3.6.13"
  },
  "orig_nbformat": 4,
  "vscode": {
   "interpreter": {
    "hash": "04ef4f95052bc14c2a6093cbd188019300ce4f6c85f9bbc5b12d09e49dbdf28e"
   }
  }
 },
 "nbformat": 4,
 "nbformat_minor": 2
}
