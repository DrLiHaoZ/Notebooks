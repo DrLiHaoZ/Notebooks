{
 "cells": [
  {
   "cell_type": "code",
   "execution_count": 9,
   "metadata": {},
   "outputs": [
    {
     "name": "stdout",
     "output_type": "stream",
     "text": [
      "fuck you str: 123\n",
      "fuck you list: [1, 2, 3]\n"
     ]
    }
   ],
   "source": [
    "from functools import singledispatch\n",
    "\n",
    "@singledispatch\n",
    "def my_fun(arg):\n",
    "    pass\n",
    "    #print(arg)\n",
    "\n",
    "@my_fun.register\n",
    "def _(arg:str):\n",
    "    print(\"fuck you str:\",arg)\n",
    "@my_fun.register\n",
    "def _(arg:list):\n",
    "    print(\"fuck you list:\",arg)\n",
    "\n",
    "def main():\n",
    "    my_fun(\"123\")\n",
    "    my_fun([1,2,3])\n",
    "if __name__ == '__main__':\n",
    "    main()\n"
   ]
  },
  {
   "cell_type": "code",
   "execution_count": 28,
   "metadata": {},
   "outputs": [
    {
     "name": "stdout",
     "output_type": "stream",
     "text": [
      "you enter a int\n",
      "2\n"
     ]
    }
   ],
   "source": [
    "from typing import Callable\n",
    "\n",
    "def decor(func:Callable):\n",
    "    def wrapper(s):\n",
    "        if type(s) == int:\n",
    "            print(\"you enter a int\")\n",
    "        elif type(s) == str:\n",
    "            print(\"you enter a str\")\n",
    "        else:\n",
    "            print(\"fuck you\")\n",
    "        func(s)\n",
    "    return wrapper\n",
    "\n",
    "@decor\n",
    "def hello(s):\n",
    "    print(s)\n",
    "\n",
    "hello(2)\n",
    "\n"
   ]
  }
 ],
 "metadata": {
  "interpreter": {
   "hash": "1513c558104143c9342deba70e5828cd4c39a134479ea9220253fbe85c0c4494"
  },
  "kernelspec": {
   "display_name": "Python 3.9.7 64-bit ('nlp': conda)",
   "language": "python",
   "name": "python3"
  },
  "language_info": {
   "codemirror_mode": {
    "name": "ipython",
    "version": 3
   },
   "file_extension": ".py",
   "mimetype": "text/x-python",
   "name": "python",
   "nbconvert_exporter": "python",
   "pygments_lexer": "ipython3",
   "version": "3.9.7"
  },
  "orig_nbformat": 4
 },
 "nbformat": 4,
 "nbformat_minor": 2
}
