{
 "cells": [
  {
   "cell_type": "code",
   "execution_count": null,
   "metadata": {},
   "outputs": [],
   "source": [
    "from tensorflow import keras\n",
    "import tensorflow as tf\n",
    "import numpy as np\n",
    "import matplotlib.pyplot as plt"
   ]
  },
  {
   "cell_type": "code",
   "execution_count": 48,
   "metadata": {},
   "outputs": [
    {
     "name": "stdout",
     "output_type": "stream",
     "text": [
      "tf.Tensor(\n",
      "[[7 4 8 5 7 3]\n",
      " [7 8 5 4 8 8]\n",
      " [3 6 5 2 8 6]\n",
      " [2 5 1 6 9 1]\n",
      " [3 7 4 9 3 5]\n",
      " [3 7 5 9 7 2]], shape=(6, 6), dtype=int64)\n",
      "tf.Tensor(\n",
      "[[8 8]\n",
      " [7 9]], shape=(2, 2), dtype=int64)\n"
     ]
    },
    {
     "data": {
      "image/png": "[encoded data removed]",
      "text/plain": [
       "<Figure size 432x288 with 2 Axes>"
      ]
     },
     "metadata": {
      "needs_background": "light"
     },
     "output_type": "display_data"
    }
   ],
   "source": [
    "fig,axs = plt.subplots(nrows = 2,ncols = 1)\n",
    "\n",
    "tf.random.set_seed(42)\n",
    "np.random.seed(42)\n",
    "X = tf.constant(np.random.randint(low = 1, high = 10, size = 36), shape = (6,6))\n",
    "\n",
    "\n",
    "print(X)\n",
    "\n",
    "X_for_pooling = tf.reshape(X, shape=(1, 6, 6, 1))\n",
    "max_pool_2d = keras.layers.MaxPooling2D(\n",
    "    pool_size=(3, 3), strides=(3, 3), padding=\"valid\")\n",
    "X_max_pooled = max_pool_2d(X_for_pooling)\n",
    "X_max_pooled = tf.squeeze(X_max_pooled, axis=[0, -1])\n",
    "\n",
    "print(X_max_pooled)\n",
    "\n",
    "axs[0].imshow(X,cmap = \"gray\")\n",
    "axs[1].imshow(X_max_pooled,cmap = \"gray\")\n",
    "axs[0].title.set_text(\"original data\")\n",
    "axs[1].title.set_text(\"max pooling data\")\n"
   ]
  },
  {
   "cell_type": "code",
   "execution_count": null,
   "metadata": {},
   "outputs": [],
   "source": []
  }
 ],
 "metadata": {
  "interpreter": {
   "hash": "1513c558104143c9342deba70e5828cd4c39a134479ea9220253fbe85c0c4494"
  },
  "kernelspec": {
   "display_name": "Python 3.9.7 64-bit ('nlp': conda)",
   "language": "python",
   "name": "python3"
  },
  "language_info": {
   "codemirror_mode": {
    "name": "ipython",
    "version": 3
   },
   "file_extension": ".py",
   "mimetype": "text/x-python",
   "name": "python",
   "nbconvert_exporter": "python",
   "pygments_lexer": "ipython3",
   "version": "3.6.13"
  },
  "orig_nbformat": 4
 },
 "nbformat": 4,
 "nbformat_minor": 2
}
