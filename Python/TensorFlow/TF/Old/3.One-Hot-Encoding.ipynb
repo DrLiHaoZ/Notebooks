{
 "cells": [
  {
   "cell_type": "code",
   "execution_count": 2,
   "metadata": {},
   "outputs": [],
   "source": [
    "import tensorflow as tf\n",
    "import numpy as np"
   ]
  },
  {
   "cell_type": "markdown",
   "metadata": {},
   "source": [
    "tf.one_hot(\n",
    "    indices, depth, on_value=None, off_value=None, axis=None, dtype=None, name=None\n",
    ")"
   ]
  },
  {
   "cell_type": "code",
   "execution_count": 13,
   "metadata": {},
   "outputs": [
    {
     "name": "stdout",
     "output_type": "stream",
     "text": [
      "tf.Tensor([b'world' b'world' b'world' b'world' b'world'], shape=(5,), dtype=string)\n"
     ]
    }
   ],
   "source": [
    "# If indices is a scalar the output shape will be a vector of length depth\n",
    "indices = 10\n",
    "print(tf.one_hot(indices,depth = 5,on_value=\"hello\",off_value=\"world\"))"
   ]
  },
  {
   "cell_type": "code",
   "execution_count": 15,
   "metadata": {},
   "outputs": [
    {
     "name": "stdout",
     "output_type": "stream",
     "text": [
      "tf.Tensor(\n",
      "[[0. 1. 0. 0. 0.]\n",
      " [0. 0. 1. 0. 0.]\n",
      " [0. 0. 0. 1. 0.]], shape=(3, 5), dtype=float32)\n",
      "tf.Tensor(\n",
      "[[0. 0. 0.]\n",
      " [1. 0. 0.]\n",
      " [0. 1. 0.]\n",
      " [0. 0. 1.]\n",
      " [0. 0. 0.]], shape=(5, 3), dtype=float32)\n"
     ]
    }
   ],
   "source": [
    "# If indices is a vector of length features, the output shape will be:\n",
    "# features x depth if axis == -1\n",
    "# depth x features if axis == 0\n",
    "indices = [1,2,3]\n",
    "print(tf.one_hot(indices, depth=5, axis=-1))\n",
    "print(tf.one_hot(indices, depth=5, axis=0))\n",
    "# 这里需要理解一下，aixs的意义，相当于扩展向量的维度"
   ]
  },
  {
   "cell_type": "code",
   "execution_count": 17,
   "metadata": {},
   "outputs": [
    {
     "name": "stdout",
     "output_type": "stream",
     "text": [
      "tf.Tensor(\n",
      "[[[0. 1. 0. 0.]\n",
      "  [0. 0. 1. 0.]]\n",
      "\n",
      " [[0. 0. 0. 1.]\n",
      "  [0. 1. 0. 0.]]], shape=(2, 2, 4), dtype=float32)\n",
      "tf.Tensor(\n",
      "[[[0. 0.]\n",
      "  [1. 0.]\n",
      "  [0. 1.]\n",
      "  [0. 0.]]\n",
      "\n",
      " [[0. 0.]\n",
      "  [0. 1.]\n",
      "  [0. 0.]\n",
      "  [1. 0.]]], shape=(2, 4, 2), dtype=float32)\n",
      "tf.Tensor(\n",
      "[[[0. 0.]\n",
      "  [0. 0.]]\n",
      "\n",
      " [[1. 0.]\n",
      "  [0. 1.]]\n",
      "\n",
      " [[0. 1.]\n",
      "  [0. 0.]]\n",
      "\n",
      " [[0. 0.]\n",
      "  [1. 0.]]], shape=(4, 2, 2), dtype=float32)\n"
     ]
    }
   ],
   "source": [
    "# if indices is a matrix(batch) with shape[batch, features], the output shape will be:\n",
    "# batch x features x depth if axis == -1\n",
    "# batch x depth x features if axis == 1\n",
    "# depth x batch x features if axis == 0\n",
    "# 这里可以比较明确地看出来axis 意味着新的维度（depth）插入的位置\n",
    "indices = [[1,2],[3,1]]\n",
    "print(tf.one_hot(indices, depth=4, axis=-1))\n",
    "print(tf.one_hot(indices, depth=4, axis= 1))\n",
    "print(tf.one_hot(indices, depth=4, axis= 0))\n"
   ]
  }
 ],
 "metadata": {
  "interpreter": {
   "hash": "1513c558104143c9342deba70e5828cd4c39a134479ea9220253fbe85c0c4494"
  },
  "kernelspec": {
   "display_name": "Python 3.9.7 64-bit ('nlp': conda)",
   "language": "python",
   "name": "python3"
  },
  "language_info": {
   "codemirror_mode": {
    "name": "ipython",
    "version": 3
   },
   "file_extension": ".py",
   "mimetype": "text/x-python",
   "name": "python",
   "nbconvert_exporter": "python",
   "pygments_lexer": "ipython3",
   "version": "3.9.7"
  },
  "orig_nbformat": 4
 },
 "nbformat": 4,
 "nbformat_minor": 2
}
