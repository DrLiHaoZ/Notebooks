{
 "cells": [
  {
   "cell_type": "code",
   "execution_count": 1,
   "id": "227afa12",
   "metadata": {},
   "outputs": [],
   "source": [
    "import tensorflow as tf\n",
    "import numpy as np"
   ]
  },
  {
   "cell_type": "markdown",
   "id": "bdb687bc",
   "metadata": {},
   "source": [
    "- rank of tensors\n",
    "- similar to the demension of data"
   ]
  },
  {
   "cell_type": "code",
   "execution_count": 4,
   "id": "963da86e",
   "metadata": {},
   "outputs": [
    {
     "name": "stdout",
     "output_type": "stream",
     "text": [
      "<tf.Variable 'Variable:0' shape=() dtype=string, numpy=b'hello'>\n",
      "tf.Tensor(0, shape=(), dtype=int32)\n"
     ]
    }
   ],
   "source": [
    "rank_tensor_0 = tf.Variable(\"hello\",tf.string)\n",
    "print(rank_tensor_0)\n",
    "print(tf.rank(rank_tensor_0))"
   ]
  },
  {
   "cell_type": "code",
   "execution_count": 14,
   "id": "e70a2ddf",
   "metadata": {},
   "outputs": [
    {
     "name": "stdout",
     "output_type": "stream",
     "text": [
      "<tf.Variable 'Variable:0' shape=(1,) dtype=string, numpy=array([b'hello'], dtype=object)>\n",
      "tf.Tensor(1, shape=(), dtype=int32)\n"
     ]
    }
   ],
   "source": [
    "rank_tensor_1 = tf.Variable([\"hello\"],tf.string)\n",
    "print(rank_tensor_1)\n",
    "print(tf.rank(rank_tensor_1))"
   ]
  },
  {
   "cell_type": "code",
   "execution_count": 15,
   "id": "c6981e21",
   "metadata": {},
   "outputs": [
    {
     "name": "stdout",
     "output_type": "stream",
     "text": [
      "<tf.Variable 'Variable:0' shape=(2, 2) dtype=string, numpy=\n",
      "array([[b'hello', b'ij'],\n",
      "       [b'jji', b'c']], dtype=object)>\n"
     ]
    },
    {
     "data": {
      "text/plain": [
       "<tf.Tensor: shape=(), dtype=int32, numpy=2>"
      ]
     },
     "execution_count": 15,
     "metadata": {},
     "output_type": "execute_result"
    }
   ],
   "source": [
    "rank_tensor_2 = tf.Variable([[\"hello\",\"ij\"],[\"jji\",\"c\"]],tf.string)\n",
    "print(rank_tensor_2)\n",
    "tf.rank(rank_tensor_2)"
   ]
  },
  {
   "cell_type": "markdown",
   "id": "208ffb3e",
   "metadata": {},
   "source": [
    " - shapes of tensor\n",
    " - amount of elements of each dimension"
   ]
  },
  {
   "cell_type": "code",
   "execution_count": 16,
   "id": "665e409d",
   "metadata": {},
   "outputs": [
    {
     "data": {
      "text/plain": [
       "TensorShape([2, 2])"
      ]
     },
     "execution_count": 16,
     "metadata": {},
     "output_type": "execute_result"
    }
   ],
   "source": [
    " rank_tensor_2.shape"
   ]
  },
  {
   "cell_type": "markdown",
   "id": "0404064c",
   "metadata": {},
   "source": [
    "- change the shape of the tensor "
   ]
  },
  {
   "cell_type": "code",
   "execution_count": 27,
   "id": "df2b048e",
   "metadata": {},
   "outputs": [
    {
     "name": "stdout",
     "output_type": "stream",
     "text": [
      "tf.Tensor(\n",
      "[[[1. 1. 1. 1.]\n",
      "  [1. 1. 1. 1.]]\n",
      "\n",
      " [[1. 1. 1. 1.]\n",
      "  [1. 1. 1. 1.]]\n",
      "\n",
      " [[1. 1. 1. 1.]\n",
      "  [1. 1. 1. 1.]]], shape=(3, 2, 4), dtype=float32)\n",
      "tf.Tensor(\n",
      "[[[1. 1.]\n",
      "  [1. 1.]\n",
      "  [1. 1.]\n",
      "  [1. 1.]]\n",
      "\n",
      " [[1. 1.]\n",
      "  [1. 1.]\n",
      "  [1. 1.]\n",
      "  [1. 1.]]\n",
      "\n",
      " [[1. 1.]\n",
      "  [1. 1.]\n",
      "  [1. 1.]\n",
      "  [1. 1.]]], shape=(3, 4, 2), dtype=float32)\n",
      "tf.Tensor(\n",
      "[[[1. 1. 1.]\n",
      "  [1. 1. 1.]]\n",
      "\n",
      " [[1. 1. 1.]\n",
      "  [1. 1. 1.]]\n",
      "\n",
      " [[1. 1. 1.]\n",
      "  [1. 1. 1.]]\n",
      "\n",
      " [[1. 1. 1.]\n",
      "  [1. 1. 1.]]], shape=(4, 2, 3), dtype=float32)\n"
     ]
    }
   ],
   "source": [
    "tensor1 = tf.ones([3,2,4])\n",
    "print(tensor1)\n",
    "tensor2 = tf.reshape(tensor1,[3,4,2])\n",
    "print(tensor2)\n",
    "tensor3 = tf.reshape(tensor1,[4,2,3])\n",
    "print(tensor3)"
   ]
  },
  {
   "cell_type": "code",
   "execution_count": null,
   "id": "2b677513",
   "metadata": {},
   "outputs": [],
   "source": [
    "- lazy reshape\n",
    "- use -1 to tell tensorflow that you need the tensorflow to calculate the number"
   ]
  },
  {
   "cell_type": "code",
   "execution_count": 30,
   "id": "175eaf1a",
   "metadata": {},
   "outputs": [
    {
     "name": "stdout",
     "output_type": "stream",
     "text": [
      "tf.Tensor(\n",
      "[[[1. 1. 1. 1.]\n",
      "  [1. 1. 1. 1.]]\n",
      "\n",
      " [[1. 1. 1. 1.]\n",
      "  [1. 1. 1. 1.]]\n",
      "\n",
      " [[1. 1. 1. 1.]\n",
      "  [1. 1. 1. 1.]]], shape=(3, 2, 4), dtype=float32)\n",
      "tf.Tensor(\n",
      "[[[1. 1. 1.]\n",
      "  [1. 1. 1.]]\n",
      "\n",
      " [[1. 1. 1.]\n",
      "  [1. 1. 1.]]\n",
      "\n",
      " [[1. 1. 1.]\n",
      "  [1. 1. 1.]]\n",
      "\n",
      " [[1. 1. 1.]\n",
      "  [1. 1. 1.]]], shape=(4, 2, 3), dtype=float32)\n"
     ]
    }
   ],
   "source": [
    "tensor1 = tf.ones([3,2,4])\n",
    "print(tensor1)\n",
    "tensor2 = tf.reshape(tensor1,[4,2,-1])\n",
    "print(tensor2)"
   ]
  },
  {
   "cell_type": "markdown",
   "id": "6b76f914",
   "metadata": {},
   "source": [
    "- types of tensors\n",
    "    - variable  # only this type of tensor can be changed durging execution\n",
    "    - constant\n",
    "    - placeholder\n",
    "    - sparsetensor"
   ]
  },
  {
   "cell_type": "code",
   "execution_count": null,
   "id": "f9f3d468",
   "metadata": {},
   "outputs": [],
   "source": [
    " "
   ]
  }
 ],
 "metadata": {
  "kernelspec": {
   "display_name": "Python 3 (ipykernel)",
   "language": "python",
   "name": "python3"
  },
  "language_info": {
   "codemirror_mode": {
    "name": "ipython",
    "version": 3
   },
   "file_extension": ".py",
   "mimetype": "text/x-python",
   "name": "python",
   "nbconvert_exporter": "python",
   "pygments_lexer": "ipython3",
   "version": "3.9.7"
  }
 },
 "nbformat": 4,
 "nbformat_minor": 5
}
