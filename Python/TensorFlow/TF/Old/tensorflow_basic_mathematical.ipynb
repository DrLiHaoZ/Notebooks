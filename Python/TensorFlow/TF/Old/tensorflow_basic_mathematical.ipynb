{
 "cells": [
  {
   "cell_type": "code",
   "execution_count": 2,
   "id": "88d97220",
   "metadata": {},
   "outputs": [],
   "source": [
    "import tensorflow as tf"
   ]
  },
  {
   "cell_type": "code",
   "execution_count": 4,
   "id": "62501955",
   "metadata": {},
   "outputs": [
    {
     "name": "stdout",
     "output_type": "stream",
     "text": [
      "tf.Tensor([10 10 10], shape=(3,), dtype=int32)\n",
      "tf.Tensor([10 10 10], shape=(3,), dtype=int32)\n"
     ]
    }
   ],
   "source": [
    "x = tf.constant([1,2,3])\n",
    "y = tf.constant([9,8,7])\n"
   ]
  },
  {
   "cell_type": "code",
   "execution_count": 5,
   "id": "61cc87ae",
   "metadata": {},
   "outputs": [
    {
     "name": "stdout",
     "output_type": "stream",
     "text": [
      "tf.Tensor([10 10 10], shape=(3,), dtype=int32)\n",
      "tf.Tensor([10 10 10], shape=(3,), dtype=int32)\n"
     ]
    }
   ],
   "source": [
    "z = tf.add(x,y)\n",
    "print(z)\n",
    "print(x+y)"
   ]
  },
  {
   "cell_type": "code",
   "execution_count": 7,
   "id": "2d5a921e",
   "metadata": {},
   "outputs": [
    {
     "name": "stdout",
     "output_type": "stream",
     "text": [
      "tf.Tensor([8 6 4], shape=(3,), dtype=int32)\n",
      "tf.Tensor([8 6 4], shape=(3,), dtype=int32)\n"
     ]
    }
   ],
   "source": [
    "z = tf.subtract(y,x)\n",
    "print(z)\n",
    "print(y-x)"
   ]
  },
  {
   "cell_type": "code",
   "execution_count": 10,
   "id": "aba1fab2",
   "metadata": {},
   "outputs": [
    {
     "name": "stdout",
     "output_type": "stream",
     "text": [
      "tf.Tensor([ 9 16 21], shape=(3,), dtype=int32)\n",
      "tf.Tensor([ 9 16 21], shape=(3,), dtype=int32)\n"
     ]
    }
   ],
   "source": [
    "z = tf.multiply(x,y)\n",
    "print(z)\n",
    "print(x*y)\n"
   ]
  },
  {
   "cell_type": "code",
   "execution_count": 11,
   "id": "bdd57502",
   "metadata": {},
   "outputs": [
    {
     "name": "stdout",
     "output_type": "stream",
     "text": [
      "tf.Tensor([0.11111111 0.25       0.42857143], shape=(3,), dtype=float64)\n",
      "tf.Tensor([0.11111111 0.25       0.42857143], shape=(3,), dtype=float64)\n"
     ]
    }
   ],
   "source": [
    "z = tf.divide(x,y)\n",
    "print(z)\n",
    "print(x/y)"
   ]
  },
  {
   "cell_type": "code",
   "execution_count": 15,
   "id": "02eced32",
   "metadata": {},
   "outputs": [
    {
     "name": "stdout",
     "output_type": "stream",
     "text": [
      "tf.Tensor(46, shape=(), dtype=int32)\n"
     ]
    }
   ],
   "source": [
    "z = tf.tensordot(x,y,axes = 1)\n",
    "print(z)"
   ]
  },
  {
   "cell_type": "code",
   "execution_count": null,
   "id": "c25ec7ee",
   "metadata": {},
   "outputs": [],
   "source": [
    "\n"
   ]
  },
  {
   "cell_type": "code",
   "execution_count": null,
   "id": "f92560da",
   "metadata": {},
   "outputs": [],
   "source": []
  }
 ],
 "metadata": {
  "kernelspec": {
   "display_name": "Python 3 (ipykernel)",
   "language": "python",
   "name": "python3"
  },
  "language_info": {
   "codemirror_mode": {
    "name": "ipython",
    "version": 3
   },
   "file_extension": ".py",
   "mimetype": "text/x-python",
   "name": "python",
   "nbconvert_exporter": "python",
   "pygments_lexer": "ipython3",
   "version": "3.9.7"
  }
 },
 "nbformat": 4,
 "nbformat_minor": 5
}
