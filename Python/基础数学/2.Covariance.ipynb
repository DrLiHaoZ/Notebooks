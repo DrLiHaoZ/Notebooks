{
 "cells": [
  {
   "cell_type": "code",
   "execution_count": 67,
   "metadata": {},
   "outputs": [],
   "source": [
    "import numpy as np\n",
    "import matplotlib.pyplot as plt"
   ]
  },
  {
   "cell_type": "markdown",
   "metadata": {},
   "source": [
    "协方差的定义 \n",
    "$cov = \\sum _{i = 0}^{N}\\frac{(x_i - \\bar{x})(y_i - \\bar{y})}{n-1}$"
   ]
  },
  {
   "cell_type": "code",
   "execution_count": 68,
   "metadata": {},
   "outputs": [
    {
     "data": {
      "image/png": "[encoded data removed]",
      "text/plain": [
       "<Figure size 432x288 with 1 Axes>"
      ]
     },
     "metadata": {
      "needs_background": "light"
     },
     "output_type": "display_data"
    }
   ],
   "source": [
    "LENGTH = 1000\n",
    "X = np.random.randn(LENGTH)\n",
    "y = 3 * X + 3 + np.random.randn(LENGTH)\n",
    "plt.figure()\n",
    "plt.plot(X,y,'r.')\n",
    "plt.legend([\"Orgin\"])\n",
    "plt.show()"
   ]
  },
  {
   "cell_type": "code",
   "execution_count": 32,
   "metadata": {},
   "outputs": [
    {
     "data": {
      "text/plain": [
       "array([[0.97154517, 2.93189062],\n",
       "       [2.93189062, 9.87880903]])"
      ]
     },
     "execution_count": 32,
     "metadata": {},
     "output_type": "execute_result"
    }
   ],
   "source": [
    "np.cov(X,y)"
   ]
  },
  {
   "cell_type": "code",
   "execution_count": 29,
   "metadata": {},
   "outputs": [
    {
     "data": {
      "text/plain": [
       "301.4825225923182"
      ]
     },
     "execution_count": 29,
     "metadata": {},
     "output_type": "execute_result"
    }
   ],
   "source": [
    "# 这里使用numpy来手动计算协方差\n",
    "np.sum(np.multiply((X-np.mean(X)),((y-np.mean(y))))) / (np.shape(X)[0] - 1)"
   ]
  },
  {
   "cell_type": "code",
   "execution_count": 34,
   "metadata": {},
   "outputs": [
    {
     "name": "stdout",
     "output_type": "stream",
     "text": [
      "0.9715451674128253 9.878809025963136\n"
     ]
    }
   ],
   "source": [
    "# np.cov返回的是一个矩阵，一个向量自己和自己的协方差是多少呢\n",
    "a = np.sum(np.multiply((X-np.mean(X)), ((X-np.mean(X))))) / (np.shape(X)[0] - 1)\n",
    "b = np.sum(np.multiply((y-np.mean(y)), ((y-np.mean(y))))) / (np.shape(X)[0] - 1)\n",
    "print(a,b)\n",
    "## 到这里就可以看懂np.cov的输出的意思了吧\n"
   ]
  },
  {
   "cell_type": "code",
   "execution_count": 65,
   "metadata": {},
   "outputs": [
    {
     "data": {
      "text/plain": [
       "14"
      ]
     },
     "execution_count": 65,
     "metadata": {},
     "output_type": "execute_result"
    }
   ],
   "source": [
    "a = np.array([1,2,3])\n",
    "np.dot(a,a.T)"
   ]
  },
  {
   "cell_type": "code",
   "execution_count": 78,
   "metadata": {},
   "outputs": [
    {
     "name": "stdout",
     "output_type": "stream",
     "text": [
      "[[-2.09280e+04 -4.24000e+03 -3.12960e+04 ...  3.88800e+03 -2.36800e+04\n",
      "  -1.86880e+04]\n",
      " [-6.65280e+04 -1.34560e+04 -1.04192e+05 ...  1.16320e+04 -7.34720e+04\n",
      "  -5.89760e+04]\n",
      " [ 1.97600e+03  3.38000e+02  2.53600e+03 ... -3.58000e+02  2.14400e+03\n",
      "   1.65600e+03]\n",
      " ...\n",
      " [-2.47500e+02 -5.18750e+01 -4.03000e+02 ...  4.89375e+01 -3.25000e+02\n",
      "  -2.49500e+02]\n",
      " [-8.77600e+03 -1.80400e+03 -1.42560e+04 ...  1.57100e+03 -1.01040e+04\n",
      "  -8.80800e+03]\n",
      " [-2.05800e+03 -4.57000e+02 -3.55600e+03 ...  4.13000e+02 -2.58000e+03\n",
      "  -2.11200e+03]]\n"
     ]
    }
   ],
   "source": []
  }
 ],
 "metadata": {
  "interpreter": {
   "hash": "1513c558104143c9342deba70e5828cd4c39a134479ea9220253fbe85c0c4494"
  },
  "kernelspec": {
   "display_name": "Python 3.9.7 64-bit ('nlp': conda)",
   "language": "python",
   "name": "python3"
  },
  "language_info": {
   "codemirror_mode": {
    "name": "ipython",
    "version": 3
   },
   "file_extension": ".py",
   "mimetype": "text/x-python",
   "name": "python",
   "nbconvert_exporter": "python",
   "pygments_lexer": "ipython3",
   "version": "3.9.7"
  },
  "orig_nbformat": 4
 },
 "nbformat": 4,
 "nbformat_minor": 2
}
