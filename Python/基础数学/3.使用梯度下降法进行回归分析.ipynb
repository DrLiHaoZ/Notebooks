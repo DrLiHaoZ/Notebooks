{
 "cells": [
  {
   "cell_type": "code",
   "execution_count": 2,
   "metadata": {},
   "outputs": [],
   "source": [
    "import numpy as np\n",
    "import sympy\n",
    "import math\n",
    "import matplotlib.pyplot as plt\n"
   ]
  },
  {
   "cell_type": "code",
   "execution_count": 26,
   "metadata": {},
   "outputs": [],
   "source": [
    "# 假设 y = a x  + b , a = 2, b = 1\n",
    "x = np.random.randn(1000)\n",
    "y = 2 * x  + 1 +  np.array([np.random.normal(0,0.4) for i in range(1000)])"
   ]
  },
  {
   "cell_type": "code",
   "execution_count": 27,
   "metadata": {},
   "outputs": [
    {
     "data": {
      "text/plain": [
       "[<matplotlib.lines.Line2D at 0x22cfe2354e0>]"
      ]
     },
     "execution_count": 27,
     "metadata": {},
     "output_type": "execute_result"
    },
    {
     "data": {
      "image/png": "[encoded data removed]",
      "text/plain": [
       "<Figure size 432x288 with 1 Axes>"
      ]
     },
     "metadata": {
      "needs_background": "light"
     },
     "output_type": "display_data"
    }
   ],
   "source": [
    "plt.plot(y,x,'ro',alpha = 0.2)"
   ]
  },
  {
   "cell_type": "code",
   "execution_count": 30,
   "metadata": {},
   "outputs": [
    {
     "name": "stdout",
     "output_type": "stream",
     "text": [
      "-1998.4672121845326\n",
      "-1867.6708377600708\n"
     ]
    }
   ],
   "source": [
    "a = 0\n",
    "b = 0\n",
    "\n",
    "grad_a = np.dot(x,(a*x + b - y))\n",
    "grad_b = 2 * (a * x + b - y ).sum()\n",
    "print(grad_a)\n",
    "print(grad_b)\n",
    "\n",
    "# learning rate = 0.001"
   ]
  },
  {
   "cell_type": "code",
   "execution_count": 32,
   "metadata": {},
   "outputs": [
    {
     "name": "stdout",
     "output_type": "stream",
     "text": [
      "1.9984672121845326\n",
      "1.8676708377600708\n"
     ]
    }
   ],
   "source": [
    "learning_rate = 0.001\n",
    "a = a - learning_rate * grad_a\n",
    "b = b - learning_rate * grad_b\n",
    "print(a)\n",
    "print(b)"
   ]
  },
  {
   "cell_type": "code",
   "execution_count": 37,
   "metadata": {},
   "outputs": [
    {
     "name": "stdout",
     "output_type": "stream",
     "text": [
      "2.006234484320247 1.0107973903105478\n"
     ]
    }
   ],
   "source": [
    "a = 0\n",
    "b = 0\n",
    "epoch = 10000\n",
    "learning_rate = 0.00001\n",
    "for e in range(epoch):\n",
    "    grad_a = np.dot(x, (a*x + b - y))\n",
    "    grad_b = 2 * (a * x + b - y).sum()\n",
    "    a, b = a - learning_rate * grad_a, b - learning_rate * grad_b\n",
    "\n",
    "print(a,b)\n"
   ]
  },
  {
   "cell_type": "code",
   "execution_count": 40,
   "metadata": {},
   "outputs": [
    {
     "data": {
      "text/plain": [
       "[<matplotlib.lines.Line2D at 0x22cfe327828>]"
      ]
     },
     "execution_count": 40,
     "metadata": {},
     "output_type": "execute_result"
    },
    {
     "data": {
      "image/png": "[encoded data removed]",
      "text/plain": [
       "<Figure size 432x288 with 1 Axes>"
      ]
     },
     "metadata": {
      "needs_background": "light"
     },
     "output_type": "display_data"
    }
   ],
   "source": [
    "# 令y = 2 * x^2 + 3 * x + 4 \n",
    "\n",
    "x = np.random.randn(1000)\n",
    "y = 2 * x**2 + 3 * x + 4 \n",
    "\n",
    "plt.plot(x,y,'ro',alpha = 0.2)"
   ]
  },
  {
   "cell_type": "code",
   "execution_count": 43,
   "metadata": {},
   "outputs": [
    {
     "name": "stdout",
     "output_type": "stream",
     "text": [
      "2.000000000000023 3.000000000000025 3.9999999999999543\n"
     ]
    }
   ],
   "source": [
    "beta2 = 0\n",
    "beta1 = 0\n",
    "beta0 = 0\n",
    "\n",
    "epoch = 10000\n",
    "learning_rate = 0.00001\n",
    "for e in range(epoch):\n",
    "    grad_beta2 =  np.dot(x**2,beta2*x**2+beta1*x+beta0-y)\n",
    "    grad_beta1 =  np.dot(x, beta2*x**2+beta1*x+beta0-y)\n",
    "    grad_beta0 =  (beta2*x**2+beta1*x+beta0-y).sum()\n",
    "    beta2 = beta2 - learning_rate * grad_beta2\n",
    "    beta1 = beta1 - learning_rate * grad_beta1\n",
    "    beta0 = beta0 - learning_rate * grad_beta0\n",
    "\n",
    "print(beta2,beta1,beta0)\n"
   ]
  }
 ],
 "metadata": {
  "interpreter": {
   "hash": "5bb6dbbe88fcdce4ecef9aa52b6a97bbb516d58d945fae59c885187edba63ce9"
  },
  "kernelspec": {
   "display_name": "Python 3.6.13 ('nlp')",
   "language": "python",
   "name": "python3"
  },
  "language_info": {
   "codemirror_mode": {
    "name": "ipython",
    "version": 3
   },
   "file_extension": ".py",
   "mimetype": "text/x-python",
   "name": "python",
   "nbconvert_exporter": "python",
   "pygments_lexer": "ipython3",
   "version": "3.6.13"
  },
  "orig_nbformat": 4
 },
 "nbformat": 4,
 "nbformat_minor": 2
}
