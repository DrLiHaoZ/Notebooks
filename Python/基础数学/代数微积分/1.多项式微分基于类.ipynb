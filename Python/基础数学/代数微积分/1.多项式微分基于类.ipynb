{
 "cells": [
  {
   "cell_type": "code",
   "execution_count": 1,
   "metadata": {},
   "outputs": [],
   "source": [
    "import math"
   ]
  },
  {
   "cell_type": "code",
   "execution_count": 3,
   "metadata": {},
   "outputs": [
    {
     "data": {
      "text/plain": [
       "[0, 2, 6]"
      ]
     },
     "execution_count": 3,
     "metadata": {},
     "output_type": "execute_result"
    }
   ],
   "source": [
    "# 复习一下枚举的用法\n",
    "a = [x * i for x,i in enumerate([1,2,3]) ]\n",
    "print(a)\n"
   ]
  },
  {
   "cell_type": "code",
   "execution_count": 9,
   "metadata": {},
   "outputs": [
    {
     "name": "stdout",
     "output_type": "stream",
     "text": [
      "2 a\n",
      "3 b\n",
      "4 c\n"
     ]
    }
   ],
   "source": [
    "# 枚举有参数start\n",
    "a = ['a','b','c']\n",
    "for i,x in enumerate(a,start=2):\n",
    "    print(i,x) "
   ]
  },
  {
   "cell_type": "markdown",
   "metadata": {},
   "source": [
    "$p(x)=a_0 + a_1x + ...+ a_n x^n\\\\$\n",
    "$p'(x) = a_1 + 2a_2 x ... + n a_n  x^{n-1}$"
   ]
  },
  {
   "cell_type": "code",
   "execution_count": 12,
   "metadata": {},
   "outputs": [],
   "source": [
    "class Polynomial:\n",
    "    def __init__(self,coeffs):\n",
    "        self.coeffs = coeffs\n",
    "\n",
    "    def __call__(self,x):\n",
    "        return sum([coeff*x**i for i,coeff in enumerate(self.coeffs)])\n",
    "\n",
    "    def __repr__(self):\n",
    "        return f\"Polynomial({self.coeffs})\"\n",
    "\n",
    "    def differentiate(self):\n",
    "        coeffs = [i*c for i,c in enumerate(self.coeffs[1:],start=1)]\n",
    "        return Polynomial(coeffs)"
   ]
  },
  {
   "cell_type": "code",
   "execution_count": 15,
   "metadata": {},
   "outputs": [
    {
     "name": "stdout",
     "output_type": "stream",
     "text": [
      "17\n"
     ]
    },
    {
     "data": {
      "text/plain": [
       "Polynomial([1, 2, 3])"
      ]
     },
     "execution_count": 15,
     "metadata": {},
     "output_type": "execute_result"
    }
   ],
   "source": [
    "a = Polynomial([1,2,3])\n",
    "print(a(2))\n",
    "a"
   ]
  },
  {
   "cell_type": "code",
   "execution_count": 13,
   "metadata": {},
   "outputs": [
    {
     "name": "stdout",
     "output_type": "stream",
     "text": [
      "Polynomial([2, 6])\n"
     ]
    }
   ],
   "source": [
    "print(a.differentiate())"
   ]
  }
 ],
 "metadata": {
  "interpreter": {
   "hash": "04ef4f95052bc14c2a6093cbd188019300ce4f6c85f9bbc5b12d09e49dbdf28e"
  },
  "kernelspec": {
   "display_name": "Python 3.6.13 ('nlp')",
   "language": "python",
   "name": "python3"
  },
  "language_info": {
   "codemirror_mode": {
    "name": "ipython",
    "version": 3
   },
   "file_extension": ".py",
   "mimetype": "text/x-python",
   "name": "python",
   "nbconvert_exporter": "python",
   "pygments_lexer": "ipython3",
   "version": "3.6.13"
  },
  "orig_nbformat": 4
 },
 "nbformat": 4,
 "nbformat_minor": 2
}
