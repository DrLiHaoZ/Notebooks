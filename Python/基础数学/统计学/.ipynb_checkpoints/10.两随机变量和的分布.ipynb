{
 "cells": [
  {
   "cell_type": "markdown",
   "metadata": {},
   "source": [
    "Expected Value"
   ]
  },
  {
   "cell_type": "markdown",
   "metadata": {},
   "source": [
    "For any two random variables $X$ and $Y$, the expected value of the sum of those variables will be equal to the sum of their expected values."
   ]
  },
  {
   "cell_type": "markdown",
   "metadata": {},
   "source": [
    "$E(X + Y) = E(X) + E(Y)$\n"
   ]
  },
  {
   "cell_type": "markdown",
   "metadata": {},
   "source": [
    "The proof, for both the discrete and continuous cases, is rather straightforward. The only essential observations are that the order of the summations (or integrals) can be swapped, and that marginal functions occur midway through the proof.\n",
    "\n"
   ]
  },
  {
   "cell_type": "markdown",
   "metadata": {},
   "source": [
    "\n",
    "\\begin{align} E(X + Y) &= \\sum\\limits_x \\sum\\limits_y (x+y) P_{XY}(x,y) \\\\ &= \\sum\\limits_x \\sum\\limits_y x P_{XY}(x,y) + \\sum\\limits_y \\sum\\limits_x y P_{XY}(x,y) \\\\ &= \\sum\\limits_x x P_X (x) + y P_Y (y) \\\\ &= E(X) + E(Y) \\end{align} \\begin{align} E(X + Y) &= \\int_x \\int_y (x+y) f_{XY}(x,y) \\, \\mathrm{d}x \\\\ &= \\int_x \\int_y x f_{XY}(x,y) \\, \\mathrm{d}y \\mathrm{d}x + \\int_y \\int_x y f_{XY}(x,y) \\, \\mathrm{d}x \\mathrm{d}y \\\\ &= \\int_x x f_X (x) \\, \\mathrm{d}x + \\int_y y f_Y (y) \\, \\mathrm{d}y \\\\ &= E(X) + E(Y) \\end{align}"
   ]
  },
  {
   "cell_type": "markdown",
   "metadata": {},
   "source": [
    "As an example, suppose we have a random variable $Z$ which is the sum of two other random variables $X$ and $Y$. The first has mean   $E(X) = 17$   and the second has mean   $E(Y) = 24$. Since   $Z = X + Y$,   then the mean of $Z$ is   $E(Z) = 24+17 = 41$.   The actual shape of each distribution is irrelevant."
   ]
  },
  {
   "cell_type": "markdown",
   "metadata": {},
   "source": [
    "Variance"
   ]
  },
  {
   "cell_type": "markdown",
   "metadata": {},
   "source": [
    "For any two random variables $X$ and $Y$, the variance of the sum of those variables is equal to the sum of the variances plus twice the covariance.\n",
    "\n",
    "$Var(X + Y) = Var(X) + Var(Y) + 2 Cov(X,Y)$\n"
   ]
  },
  {
   "cell_type": "markdown",
   "metadata": {},
   "source": [
    "The proof of this statement is similar to the proof of the expected value of a sum of random variables, but since variance is involved, there are a few more details that need attention.\n",
    "\n",
    "\\begin{align} &Var(X + Y) \\\\ &= \\sum\\limits_x \\sum\\limits_y (x+y)^2 P_{XY}(x,y) - (E(X+Y))^2 \\\\ &= \\sum\\limits_x \\sum\\limits_y x^2 P_{XY}(x,y) + \\sum\\limits_x \\sum\\limits_y 2xy P_{XY}(x,y) + \\sum\\limits_y \\sum\\limits_x y^2 P_{XY}(x,y) - (E(X))^2 - 2E(X)E(Y) - (E(Y))^2 \\\\ &= \\sum\\limits_x x^2 P_X (x) - (E(X))^2 + \\sum\\limits_y y^2 P_Y(y) - (E(Y))^2 + \\sum\\limits_x \\sum\\limits_y 2xy P_{XY}(x,y) - 2E(X)E(Y) \\\\ &= E(X^2) - (E(X))^2 + E(Y^2) - (E(Y))^2 + 2 (E(XY) - E(X)E(Y) ) \\\\ &= Var(X) + Var(Y) + 2 Cov(X,Y) \\end{align}\n"
   ]
  },
  {
   "cell_type": "markdown",
   "metadata": {},
   "source": [
    "And now we do the continuous case.\n",
    "\n",
    "\\begin{align} &Var(X + Y) \\\\ &= \\int_x \\int_y (x+y)^2 f_{XY}(x,y) - (E(X+Y))^2 \\\\ &= \\int_x \\int_y x^2 f_{XY}(x,y) + \\int_x \\int_y 2xy f_{XY}(x,y) + \\int_y \\int_x y^2 f_{XY}(x,y) - (E(X))^2 - 2E(X)E(Y) - (E(Y))^2 \\\\ &= \\int_x x^2 f_X (x) - (E(X))^2 + \\int_y y^2 f_Y(y) - (E(Y))^2 + \\int_x \\int_y 2xy f_{XY}(x,y) - 2E(X)E(Y) \\\\ &= E(X^2) - (E(X))^2 + E(Y^2) - (E(Y))^2 + 2 (E(XY) - E(X)E(Y) ) \\\\ &= Var(X) + Var(Y) + 2 Cov(X,Y) \\end{align}\n",
    "If the random variables are independent, then a simpler result occurs."
   ]
  },
  {
   "cell_type": "markdown",
   "metadata": {},
   "source": [
    "If $X$ and $Y$ are independent,\n",
    "then\n",
    "$Var(X + Y) = Var(X) + Var(Y)\\\\$\n",
    "$\\sigma_{X+Y} = \\sqrt{ \\sigma_X^2 + \\sigma_Y^2 }$"
   ]
  }
 ],
 "metadata": {
  "language_info": {
   "name": "python"
  },
  "orig_nbformat": 4
 },
 "nbformat": 4,
 "nbformat_minor": 2
}
