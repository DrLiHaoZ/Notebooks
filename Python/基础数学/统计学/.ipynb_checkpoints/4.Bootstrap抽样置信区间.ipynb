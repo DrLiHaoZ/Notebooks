{
 "cells": [
  {
   "cell_type": "code",
   "execution_count": 1,
   "metadata": {},
   "outputs": [],
   "source": [
    "\n",
    "import numpy as np\n",
    "import random\n",
    "from scipy import stats\n",
    "import matplotlib.pyplot as plt"
   ]
  },
  {
   "cell_type": "code",
   "execution_count": 2,
   "metadata": {},
   "outputs": [],
   "source": [
    "np.random.seed(10)\n",
    "a = np.random.normal(size=15)\n"
   ]
  },
  {
   "cell_type": "code",
   "execution_count": 9,
   "metadata": {},
   "outputs": [],
   "source": [
    "boot_a = []\n",
    "for i in range(1000):\n",
    "    boot_a.append(random.sample(list(a), k = 1))\n",
    "\n",
    "boot_mean = []\n",
    "for i in range(1000):\n",
    "    boot_mean.append(np.mean(random.sample(boot_a,k = 15)))"
   ]
  },
  {
   "cell_type": "code",
   "execution_count": 10,
   "metadata": {},
   "outputs": [
    {
     "name": "stdout",
     "output_type": "stream",
     "text": [
      "-0.14157905694592396 0.4622913256174627\n"
     ]
    },
    {
     "data": {
      "image/png": "[encoded data removed]",
      "text/plain": [
       "<Figure size 432x288 with 1 Axes>"
      ]
     },
     "metadata": {
      "needs_background": "light"
     },
     "output_type": "display_data"
    }
   ],
   "source": [
    "plt.hist(boot_mean)\n",
    "low = np.quantile(boot_mean,0.05)\n",
    "high = np.quantile(boot_mean,0.95)\n",
    "print(low,high)"
   ]
  },
  {
   "cell_type": "code",
   "execution_count": 5,
   "metadata": {},
   "outputs": [
    {
     "data": {
      "text/plain": [
       "(-0.2741525756703802, 0.6109506000389545)"
      ]
     },
     "execution_count": 5,
     "metadata": {},
     "output_type": "execute_result"
    }
   ],
   "source": [
    "#使用t分布来计算\n",
    "stats.t.interval(alpha = 0.95,df = len(a)-1,loc = np.mean(a),scale = stats.sem(a))"
   ]
  },
  {
   "cell_type": "code",
   "execution_count": 6,
   "metadata": {},
   "outputs": [
    {
     "data": {
      "text/plain": [
       "array([ 1.3315865 ,  0.71527897, -1.54540029, -0.00838385,  0.62133597,\n",
       "       -0.72008556,  0.26551159,  0.10854853,  0.00429143, -0.17460021,\n",
       "        0.43302619,  1.20303737, -0.96506567,  1.02827408,  0.22863013])"
      ]
     },
     "execution_count": 6,
     "metadata": {},
     "output_type": "execute_result"
    }
   ],
   "source": []
  }
 ],
 "metadata": {
  "interpreter": {
   "hash": "658f2c8c08232f4d071abc7de22d46f1ac00b3f0cb9659e9d4511b6bb957757a"
  },
  "kernelspec": {
   "display_name": "Python 3.9.10 ('base')",
   "language": "python",
   "name": "python3"
  },
  "language_info": {
   "codemirror_mode": {
    "name": "ipython",
    "version": 3
   },
   "file_extension": ".py",
   "mimetype": "text/x-python",
   "name": "python",
   "nbconvert_exporter": "python",
   "pygments_lexer": "ipython3",
   "version": "3.9.10"
  },
  "orig_nbformat": 4
 },
 "nbformat": 4,
 "nbformat_minor": 2
}
