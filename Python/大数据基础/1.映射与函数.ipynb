{
 "cells": [
  {
   "cell_type": "code",
   "execution_count": 4,
   "metadata": {},
   "outputs": [],
   "source": [
    "from sympy import *"
   ]
  },
  {
   "cell_type": "code",
   "execution_count": 7,
   "metadata": {},
   "outputs": [
    {
     "name": "stdout",
     "output_type": "stream",
     "text": [
      "[2, 3]\n"
     ]
    }
   ],
   "source": [
    "x = symbols('x')\n",
    "X = solve(x**2 - 5*x + 6,x)\n",
    "print(X)\n"
   ]
  },
  {
   "cell_type": "code",
   "execution_count": 18,
   "metadata": {},
   "outputs": [
    {
     "name": "stdout",
     "output_type": "stream",
     "text": [
      "ab的并 {'1', '3', '2', '4', '5'}\n",
      "ab的交 {'3'}\n",
      "ab的差 {'1', '2'}\n"
     ]
    }
   ],
   "source": [
    "a = set('123')\n",
    "b = set('345')\n",
    "print(\"ab的并\", a | b)\n",
    "print(\"ab的交\", a & b)\n",
    "print(\"ab的差\", a - b)\n",
    "\n",
    "# 问题是set很奇怪 为啥将字符串分解"
   ]
  },
  {
   "cell_type": "code",
   "execution_count": 22,
   "metadata": {},
   "outputs": [
    {
     "name": "stdout",
     "output_type": "stream",
     "text": [
      "该数列的极限为： 1\n"
     ]
    }
   ],
   "source": [
    "#极限\n",
    "n = symbols('n')\n",
    "expression = n / (n + 1)\n",
    "print('该表达式的极限为：',limit(expression, n, oo))  #这里的意思的是趋近于正无穷"
   ]
  },
  {
   "cell_type": "code",
   "execution_count": 25,
   "metadata": {},
   "outputs": [
    {
     "name": "stdout",
     "output_type": "stream",
     "text": [
      "当x趋近于 - 1/2 时，表达式趋近于 2.00000000000000\n"
     ]
    }
   ],
   "source": [
    "x = symbols('x')\n",
    "expression = (1-4 * x ** 2)/(2 * x +1)\n",
    "print('当x趋近于 - 1/2 时，表达式趋近于', limit(expression, x, -1/2))\n"
   ]
  }
 ],
 "metadata": {
  "interpreter": {
   "hash": "1513c558104143c9342deba70e5828cd4c39a134479ea9220253fbe85c0c4494"
  },
  "kernelspec": {
   "display_name": "Python 3.9.7 64-bit ('nlp': conda)",
   "name": "python3"
  },
  "language_info": {
   "codemirror_mode": {
    "name": "ipython",
    "version": 3
   },
   "file_extension": ".py",
   "mimetype": "text/x-python",
   "name": "python",
   "nbconvert_exporter": "python",
   "pygments_lexer": "ipython3",
   "version": "3.9.7"
  },
  "orig_nbformat": 4
 },
 "nbformat": 4,
 "nbformat_minor": 2
}
