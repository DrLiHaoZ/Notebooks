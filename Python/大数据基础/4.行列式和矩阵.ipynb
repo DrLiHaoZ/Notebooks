{
 "cells": [
  {
   "cell_type": "code",
   "execution_count": 3,
   "metadata": {},
   "outputs": [],
   "source": [
    "import numpy as np"
   ]
  },
  {
   "cell_type": "code",
   "execution_count": 9,
   "metadata": {},
   "outputs": [
    {
     "name": "stdout",
     "output_type": "stream",
     "text": [
      "[[1 0]\n",
      " [0 1]]\n",
      "[[2 0]\n",
      " [0 2]]\n",
      "1.0\n",
      "4.0\n"
     ]
    }
   ],
   "source": [
    "a1 = np.array([[1,0],[0,1]])\n",
    "a2 = a1 * 2\n",
    "print(a1)\n",
    "print(a2)\n",
    "print(np.linalg.det(a1))\n",
    "print(np.linalg.det(a2))\n"
   ]
  },
  {
   "cell_type": "code",
   "execution_count": 4,
   "metadata": {},
   "outputs": [
    {
     "data": {
      "text/plain": [
       "matrix([[1, 2, 3],\n",
       "        [4, 5, 6]])"
      ]
     },
     "execution_count": 4,
     "metadata": {},
     "output_type": "execute_result"
    }
   ],
   "source": [
    "# 矩阵的定义\n",
    "a = np.mat([[1,2,3],[4,5,6]])\n",
    "a"
   ]
  },
  {
   "cell_type": "markdown",
   "metadata": {},
   "source": [
    "矩阵的乘法\n",
    "$c_{ij} = \\sum_{k=1}^{s}a_{ik}b_{kj}$"
   ]
  },
  {
   "cell_type": "markdown",
   "metadata": {},
   "source": [
    "# 协方差的定义\n",
    "\n",
    "$\\frac{\\sum{(x-\\hat{x})(y-\\hat{y})}}{n-1}\\\\$"
   ]
  },
  {
   "cell_type": "code",
   "execution_count": 19,
   "metadata": {},
   "outputs": [
    {
     "name": "stdout",
     "output_type": "stream",
     "text": [
      "[[-0.98149893  0.82085594]\n",
      " [-0.15031931  1.39645792]]\n"
     ]
    },
    {
     "data": {
      "text/plain": [
       "array([[1.62424155, 1.39392074],\n",
       "       [1.39392074, 1.1962599 ]])"
      ]
     },
     "execution_count": 19,
     "metadata": {},
     "output_type": "execute_result"
    }
   ],
   "source": [
    "rand = np.random.randn(4)\n",
    "rand = rand.reshape((2,2))\n",
    "print(rand)\n",
    "np.cov(rand)"
   ]
  },
  {
   "cell_type": "code",
   "execution_count": 22,
   "metadata": {},
   "outputs": [
    {
     "data": {
      "text/plain": [
       "array([[ 0.,  1.],\n",
       "       [-1., -0.]])"
      ]
     },
     "execution_count": 22,
     "metadata": {},
     "output_type": "execute_result"
    }
   ],
   "source": [
    "# 矩阵的逆\n",
    "a = np.array([[0,-1],[1,0]])\n",
    "np.linalg.inv(a)"
   ]
  },
  {
   "cell_type": "markdown",
   "metadata": {},
   "source": [
    "# 理解解方程组\n",
    "\n",
    "$$\n",
    "\\begin{cases}\n",
    "    a_{1}x + b_{1}y = c_{1}\\\\\n",
    "    a_{2}x + b_{2}y = c_{2}\n",
    "\\end{cases}\n",
    "$$\n",
    "\n",
    "等同于\n",
    "$$\n",
    "\\begin{bmatrix}\n",
    "a_{1} & b_{1} \\\\ \n",
    "a_{2} & b_{2}\n",
    "\\end{bmatrix}\n",
    "\n",
    "\\begin{bmatrix}\n",
    "x\\\\\n",
    "y\n",
    "\\end{bmatrix}\n",
    "\n",
    "=\n",
    "\\begin{bmatrix}\n",
    "c_{1}\\\\\n",
    "c_{2}\n",
    "\\end{bmatrix}\n",
    "$$\n",
    "\n",
    "那么\n",
    "$$\n",
    "\n",
    "\\begin{bmatrix}\n",
    "x\\\\\n",
    "y\n",
    "\\end{bmatrix}\n",
    "\n",
    "=\n",
    "\\begin{bmatrix}\n",
    "c_{1}\\\\\n",
    "c_{2}\n",
    "\\end{bmatrix}\n",
    "\n",
    "\\begin{bmatrix}\n",
    "a_{1} & b_{1} \\\\ \n",
    "a_{2} & b_{2}\n",
    "\\end{bmatrix}^{-1}\n",
    "\n",
    "$$"
   ]
  },
  {
   "cell_type": "code",
   "execution_count": 24,
   "metadata": {},
   "outputs": [
    {
     "data": {
      "text/plain": [
       "array([1., 1.])"
      ]
     },
     "execution_count": 24,
     "metadata": {},
     "output_type": "execute_result"
    }
   ],
   "source": [
    "# 解方程组\n",
    "#2x + y = 3\n",
    "#x + y = 2\n",
    "D1 = np.array([[2,1],[1,1]])\n",
    "D2 = np.array([3,2])\n",
    "\n",
    "result = np.dot(np.linalg.inv(D1),D2)\n",
    "result"
   ]
  }
 ],
 "metadata": {
  "interpreter": {
   "hash": "1513c558104143c9342deba70e5828cd4c39a134479ea9220253fbe85c0c4494"
  },
  "kernelspec": {
   "display_name": "Python 3.9.7 64-bit ('nlp': conda)",
   "language": "python",
   "name": "python3"
  },
  "language_info": {
   "codemirror_mode": {
    "name": "ipython",
    "version": 3
   },
   "file_extension": ".py",
   "mimetype": "text/x-python",
   "name": "python",
   "nbconvert_exporter": "python",
   "pygments_lexer": "ipython3",
   "version": "3.9.7"
  },
  "orig_nbformat": 4
 },
 "nbformat": 4,
 "nbformat_minor": 2
}
