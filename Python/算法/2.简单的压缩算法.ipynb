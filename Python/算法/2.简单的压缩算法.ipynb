{
 "cells": [
  {
   "cell_type": "markdown",
   "metadata": {},
   "source": [
    "需求：存储基因数据 ATCG\n",
    "问题：使用字符串编码每个碱基会使用8位，能不能用更加少的内存来编码？"
   ]
  },
  {
   "cell_type": "markdown",
   "metadata": {},
   "source": [
    "复习：位运算\n",
    "1&0 按位与\n",
    "1|0 按位或\n",
    "1^0 按位异或\n",
    "1<<2 左移2位 每一位乘以2\n",
    "1>>2 右移2位"
   ]
  },
  {
   "cell_type": "code",
   "execution_count": 10,
   "metadata": {},
   "outputs": [],
   "source": [
    "class CompressGene:\n",
    "    def __init__(self,gene:str) -> None:\n",
    "        self._compress(gene)\n",
    "\n",
    "    def _compress(self,gene:str) -> None:\n",
    "        self.bit_string:int = 1\n",
    "        for nucleotide in gene.upper():\n",
    "            self.bit_string <<= 2\n",
    "            if nucleotide == \"A\":\n",
    "                self.bit_string |= 0b00\n",
    "            elif nucleotide == \"C\":\n",
    "                self.bit_string |= 0b01\n",
    "            elif nucleotide == \"G\":\n",
    "                self.bit_string |= 0b10\n",
    "            elif nucleotide == \"T\":\n",
    "                self.bit_string |= 0b11\n",
    "            else:\n",
    "                raise ValueError(\"Invalid nucleotide:{}\".format(nucleotide))\n"
   ]
  },
  {
   "cell_type": "code",
   "execution_count": 12,
   "metadata": {},
   "outputs": [
    {
     "name": "stdout",
     "output_type": "stream",
     "text": [
      "0b10011\n"
     ]
    }
   ],
   "source": [
    "gene = CompressGene(\"At\")\n",
    "print(bin(gene.bit_string))\n"
   ]
  }
 ],
 "metadata": {
  "interpreter": {
   "hash": "1513c558104143c9342deba70e5828cd4c39a134479ea9220253fbe85c0c4494"
  },
  "kernelspec": {
   "display_name": "Python 3.9.7 64-bit ('nlp': conda)",
   "language": "python",
   "name": "python3"
  },
  "language_info": {
   "codemirror_mode": {
    "name": "ipython",
    "version": 3
   },
   "file_extension": ".py",
   "mimetype": "text/x-python",
   "name": "python",
   "nbconvert_exporter": "python",
   "pygments_lexer": "ipython3",
   "version": "3.9.7"
  },
  "orig_nbformat": 4
 },
 "nbformat": 4,
 "nbformat_minor": 2
}
