{
 "cells": [
  {
   "cell_type": "code",
   "execution_count": 6,
   "metadata": {},
   "outputs": [
    {
     "data": {
      "text/plain": [
       "3.1414926535900345"
      ]
     },
     "execution_count": 6,
     "metadata": {},
     "output_type": "execute_result"
    }
   ],
   "source": [
    "# 布莱尼次公式\n",
    "# pi = 4/1 - 4/3 + 4/5 - 4/7 + 4/9 ...\n",
    "\n",
    "def calculate_pi(n_terms:int)->float:\n",
    "    numerator = 4.0\n",
    "    denominator = 1.0\n",
    "    result = 0.0\n",
    "    operator = 1.0\n",
    "    for n in range(n_terms):\n",
    "        result += operator *  numerator / denominator\n",
    "        denominator += 2\n",
    "        operator *= -1\n",
    "    return result\n",
    "\n",
    "calculate_pi(10000)\n"
   ]
  }
 ],
 "metadata": {
  "interpreter": {
   "hash": "1513c558104143c9342deba70e5828cd4c39a134479ea9220253fbe85c0c4494"
  },
  "kernelspec": {
   "display_name": "Python 3.9.7 64-bit ('nlp': conda)",
   "language": "python",
   "name": "python3"
  },
  "language_info": {
   "codemirror_mode": {
    "name": "ipython",
    "version": 3
   },
   "file_extension": ".py",
   "mimetype": "text/x-python",
   "name": "python",
   "nbconvert_exporter": "python",
   "pygments_lexer": "ipython3",
   "version": "3.9.7"
  },
  "orig_nbformat": 4
 },
 "nbformat": 4,
 "nbformat_minor": 2
}
