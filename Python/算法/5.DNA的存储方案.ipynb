{
 "cells": [
  {
   "cell_type": "code",
   "execution_count": 33,
   "metadata": {},
   "outputs": [],
   "source": [
    "from enum import IntEnum\n",
    "from typing import Tuple,List\n",
    "\n",
    "Nucleotide:IntEnum = IntEnum('Nucleotide',('A','C','G','T'))\n",
    "Codon = Tuple[Nucleotide, Nucleotide, Nucleotide]\n",
    "Gene = List[Codon]\n",
    "gene_str: str = \"ATCGACACACGTAGCTAGCTACGATCTAGCGATCAGCTAGCATCGATCGACT\"\n"
   ]
  },
  {
   "cell_type": "code",
   "execution_count": 36,
   "metadata": {},
   "outputs": [],
   "source": [
    "def string_to_gene(s:str) -> Gene:\n",
    "    gene:Gene = []\n",
    "    for i in range(0,len(s),3):\n",
    "        if (i + 2 >=  len(s)):\n",
    "            return gene\n",
    "        else:\n",
    "            codon: Codon = (Nucleotide[s[i]], Nucleotide[s[i+1]], Nucleotide[s[i+2]])\n",
    "            gene.append(codon)\n",
    "\n",
    "my_gene: Gene = string_to_gene(gene_str)\n"
   ]
  },
  {
   "cell_type": "code",
   "execution_count": 38,
   "metadata": {},
   "outputs": [
    {
     "data": {
      "text/plain": [
       "True"
      ]
     },
     "execution_count": 38,
     "metadata": {},
     "output_type": "execute_result"
    }
   ],
   "source": [
    "# 线性搜索\n",
    "def linear_contains(gene:Gene,key_codon:Codon)->bool:\n",
    "    for codon in gene:\n",
    "        if codon == key_codon:\n",
    "            return True\n",
    "        return False\n",
    "\n",
    "acg:Codon = (Nucleotide['A'],Nucleotide['C'],Nucleotide['G'])\n",
    "atc: Codon = (Nucleotide['A'], Nucleotide['T'], Nucleotide['C'])\n",
    "linear_contains(my_gene,atc)\n"
   ]
  },
  {
   "cell_type": "code",
   "execution_count": 48,
   "metadata": {},
   "outputs": [
    {
     "data": {
      "text/plain": [
       "True"
      ]
     },
     "execution_count": 48,
     "metadata": {},
     "output_type": "execute_result"
    }
   ],
   "source": [
    "# 二分搜索\n",
    "# 首先说一下背景，IntEnum组成的元组类型是可以进行排序的，而排序是进行二分搜索的前提\n",
    "my_sorted_gene:Gene = sorted(my_gene)\n",
    "def binary_contains(gene:Gene,key_codon:Codon) -> bool:\n",
    "    low: int = 0\n",
    "    high: int = len(gene) - 1\n",
    "    \n",
    "    while(low <= high):\n",
    "        middle: int = (low + high) // 2\n",
    "        if gene[middle] < key_codon:\n",
    "            low = middle + 1\n",
    "        elif gene[middle] > key_codon:\n",
    "            high = middle -1\n",
    "        else:\n",
    "            return True\n",
    "    return False\n",
    "acg:Codon = (Nucleotide['A'],Nucleotide['C'],Nucleotide['G'])\n",
    "atc: Codon = (Nucleotide['A'], Nucleotide['T'], Nucleotide['C'])\n",
    "binary_contains(my_gene,atc)"
   ]
  }
 ],
 "metadata": {
  "interpreter": {
   "hash": "1513c558104143c9342deba70e5828cd4c39a134479ea9220253fbe85c0c4494"
  },
  "kernelspec": {
   "display_name": "Python 3.9.7 64-bit ('nlp': conda)",
   "language": "python",
   "name": "python3"
  },
  "language_info": {
   "codemirror_mode": {
    "name": "ipython",
    "version": 3
   },
   "file_extension": ".py",
   "mimetype": "text/x-python",
   "name": "python",
   "nbconvert_exporter": "python",
   "pygments_lexer": "ipython3",
   "version": "3.9.7"
  },
  "orig_nbformat": 4
 },
 "nbformat": 4,
 "nbformat_minor": 2
}
