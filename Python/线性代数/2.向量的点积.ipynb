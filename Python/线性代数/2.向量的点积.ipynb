{
 "cells": [
  {
   "cell_type": "code",
   "execution_count": 2,
   "metadata": {},
   "outputs": [],
   "source": [
    "import numpy as np\n",
    "import matplotlib.pyplot as plt\n",
    "import math"
   ]
  },
  {
   "cell_type": "code",
   "execution_count": 8,
   "metadata": {},
   "outputs": [
    {
     "data": {
      "image/png": "[encoded data removed]",
      "text/plain": [
       "<Figure size 432x288 with 1 Axes>"
      ]
     },
     "metadata": {
      "needs_background": "light"
     },
     "output_type": "display_data"
    }
   ],
   "source": [
    "data = np.array([[2, 1], [-1, 2], [4, -1]])\n",
    "origin = np.array([[0, 0, 0], [0, 0, 0]])\n",
    "plt.quiver(*origin, data[:, 0], data[:, 1],\n",
    "           color=['black', 'red', 'green'], scale=15)\n",
    "plt.show()\n"
   ]
  },
  {
   "cell_type": "code",
   "execution_count": 3,
   "metadata": {},
   "outputs": [
    {
     "name": "stdout",
     "output_type": "stream",
     "text": [
      "5.0 5.0\n"
     ]
    }
   ],
   "source": [
    "# 求向量的模\n",
    "a = np.array([3,4])\n",
    "\n",
    "m1 = np.linalg.norm(a)\n",
    "m2 = math.sqrt(a[0] **2 + a[1] ** 2)\n",
    "print(m1,m2)"
   ]
  },
  {
   "cell_type": "code",
   "execution_count": 4,
   "metadata": {},
   "outputs": [
    {
     "name": "stdout",
     "output_type": "stream",
     "text": [
      "11 11\n"
     ]
    }
   ],
   "source": [
    "# 求点积有两种方式\n",
    "a = np.array([1,2])\n",
    "b = np.array([3,4])\n",
    "# dot\n",
    "\n",
    "methods1 = a.dot(b)\n",
    "methods2 = np.inner(a,b)\n",
    "\n",
    "print(methods1,methods2)"
   ]
  },
  {
   "cell_type": "code",
   "execution_count": 25,
   "metadata": {},
   "outputs": [
    {
     "name": "stdout",
     "output_type": "stream",
     "text": [
      "0.5000000000000001 0.5000000000000001\n"
     ]
    }
   ],
   "source": [
    "# 用余弦定理来求点积, 这里我们先弄一个等边三角形\n",
    "a = np.array([1, 0])\n",
    "b = np.array([0.5, math.sqrt(0.75)])\n",
    "\n",
    "m1 = math.cos(math.pi / 3)\n",
    "m2 = np.inner(a,b) / (np.linalg.norm(a) * np.linalg.norm(b))\n",
    "\n",
    "print(m1,m2)\n",
    "\n",
    "\n"
   ]
  },
  {
   "cell_type": "code",
   "execution_count": 5,
   "metadata": {},
   "outputs": [
    {
     "name": "stdout",
     "output_type": "stream",
     "text": [
      "[[4]]\n"
     ]
    }
   ],
   "source": [
    "a = np.mat([1, 2])\n",
    "b = np.mat([[2], [1]])\n",
    "print(np.dot(a, b))\n",
    "\n"
   ]
  },
  {
   "cell_type": "code",
   "execution_count": 6,
   "metadata": {},
   "outputs": [
    {
     "name": "stdout",
     "output_type": "stream",
     "text": [
      "4\n"
     ]
    }
   ],
   "source": [
    "a = np.array([1,2])\n",
    "b = np.array([2,1])\n",
    "\n",
    "print(np.dot(a,b))"
   ]
  }
 ],
 "metadata": {
  "interpreter": {
   "hash": "5bb6dbbe88fcdce4ecef9aa52b6a97bbb516d58d945fae59c885187edba63ce9"
  },
  "kernelspec": {
   "display_name": "Python 3.6.13 64-bit ('nlp': conda)",
   "language": "python",
   "name": "python3"
  },
  "language_info": {
   "codemirror_mode": {
    "name": "ipython",
    "version": 3
   },
   "file_extension": ".py",
   "mimetype": "text/x-python",
   "name": "python",
   "nbconvert_exporter": "python",
   "pygments_lexer": "ipython3",
   "version": "3.9.7"
  },
  "orig_nbformat": 4
 },
 "nbformat": 4,
 "nbformat_minor": 2
}
