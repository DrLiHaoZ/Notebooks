{
 "cells": [
  {
   "cell_type": "code",
   "execution_count": 1,
   "metadata": {},
   "outputs": [],
   "source": [
    "import math \n",
    "import numpy as np\n"
   ]
  },
  {
   "cell_type": "code",
   "execution_count": null,
   "metadata": {},
   "outputs": [],
   "source": [
    "a = np.array([3,2])\n",
    "b = np.array([1,3])\n",
    "\n",
    "mat = np.mat([a,b])\n",
    "mat_t = mat.T\n",
    "\n",
    "print(mat)\n",
    "print(mat_t)"
   ]
  },
  {
   "cell_type": "code",
   "execution_count": null,
   "metadata": {},
   "outputs": [],
   "source": [
    "# 可以看出向量无论怎么放，其决定式都是一样的\n",
    "r1 = np.linalg.det(mat)\n",
    "r2 = np.linalg.det(mat_t)\n",
    "\n",
    "print(r1,r2)"
   ]
  },
  {
   "cell_type": "code",
   "execution_count": 7,
   "metadata": {},
   "outputs": [
    {
     "name": "stdout",
     "output_type": "stream",
     "text": [
      "[0 0 4]\n",
      "[0. 0. 1.]\n"
     ]
    }
   ],
   "source": [
    "# 叉乘的意义\n",
    "a = np.array([2,0,0])\n",
    "b = np.array([0,2,0])\n",
    "c = np.array([0,0,2])\n",
    "\n",
    "# a x b 为 向量a b 组成的四边形的有向面积，换句话说就是一个向量，该向量的模是面积，方向垂直于该平面\n",
    "print(np.cross(a,b))\n",
    "\n",
    "# 而a b向量组成的平面的法向量就是\n",
    "print(np.cross(a,b)/np.linalg.norm(np.cross(a,b)))"
   ]
  },
  {
   "cell_type": "code",
   "execution_count": null,
   "metadata": {},
   "outputs": [],
   "source": [
    "# 那我们需要思考的时，一个矩阵的逆矩阵，其决定式时多少呢\n",
    "mat_inv = np.linalg.inv(mat)\n",
    "print(np.linalg.det(mat_inv))\n",
    "print(1/7)\n",
    "print(np.linalg.det(mat))"
   ]
  },
  {
   "cell_type": "code",
   "execution_count": 11,
   "metadata": {},
   "outputs": [
    {
     "name": "stdout",
     "output_type": "stream",
     "text": [
      "[[ 2  3  1]\n",
      " [ 5  2  1]\n",
      " [-1  0  2]]\n",
      "-23.0\n",
      "ab平面的法向量是 [ 0.08737041  0.26211122 -0.96107446]\n",
      "-23.0\n"
     ]
    }
   ],
   "source": [
    "#叉积的作用1：计算六面体的体积\n",
    "a = np.array([2,3,1])\n",
    "b = np.array([5,2,1])\n",
    "c = np.array([-1,0,2])\n",
    "\n",
    "mat = np.mat([a,b,c])\n",
    "print(mat)\n",
    "print(np.linalg.det(mat))\n",
    "\n",
    "\n",
    "# 那么如何用向量来计算体积呢\n",
    "\n",
    "norm_ab = np.cross(a,b) / np.linalg.norm(np.cross(a,b))  # 首先得到ab 平面的法向量\n",
    "area_ab = np.linalg.norm(np.cross(a,b)) # 相当于底面积\n",
    "print(\"ab平面的法向量是\",norm_ab)\n",
    "print(np.dot(c,norm_ab) * area_ab)"
   ]
  },
  {
   "cell_type": "code",
   "execution_count": 12,
   "metadata": {},
   "outputs": [
    {
     "data": {
      "text/plain": [
       "0.9999999999999999"
      ]
     },
     "execution_count": 12,
     "metadata": {},
     "output_type": "execute_result"
    }
   ],
   "source": [
    "# 叉积的作用2 ： 判断点是否共面\n",
    "## 这个很好理解，如果有其体积不为0，则3个点一定不共面\n",
    "\n"
   ]
  },
  {
   "cell_type": "code",
   "execution_count": 21,
   "metadata": {},
   "outputs": [
    {
     "data": {
      "text/plain": [
       "matrix([[1, 2]])"
      ]
     },
     "execution_count": 21,
     "metadata": {},
     "output_type": "execute_result"
    }
   ],
   "source": [
    "\n"
   ]
  },
  {
   "cell_type": "code",
   "execution_count": 22,
   "metadata": {},
   "outputs": [
    {
     "name": "stdout",
     "output_type": "stream",
     "text": [
      "[[4]]\n"
     ]
    }
   ],
   "source": []
  }
 ],
 "metadata": {
  "interpreter": {
   "hash": "5bb6dbbe88fcdce4ecef9aa52b6a97bbb516d58d945fae59c885187edba63ce9"
  },
  "kernelspec": {
   "display_name": "Python 3.6.13 64-bit ('nlp': conda)",
   "language": "python",
   "name": "python3"
  },
  "language_info": {
   "codemirror_mode": {
    "name": "ipython",
    "version": 3
   },
   "file_extension": ".py",
   "mimetype": "text/x-python",
   "name": "python",
   "nbconvert_exporter": "python",
   "pygments_lexer": "ipython3",
   "version": "3.6.13"
  },
  "orig_nbformat": 4
 },
 "nbformat": 4,
 "nbformat_minor": 2
}
