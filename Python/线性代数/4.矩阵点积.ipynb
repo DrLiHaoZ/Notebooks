{
 "cells": [
  {
   "cell_type": "code",
   "execution_count": 1,
   "metadata": {},
   "outputs": [],
   "source": [
    "import numpy as np"
   ]
  },
  {
   "cell_type": "markdown",
   "metadata": {},
   "source": [
    "2*2 matrix dot 1*2 vector"
   ]
  },
  {
   "cell_type": "code",
   "execution_count": 2,
   "metadata": {},
   "outputs": [
    {
     "name": "stdout",
     "output_type": "stream",
     "text": [
      "[-1  2]\n",
      "[[3 1]\n",
      " [1 2]]\n"
     ]
    }
   ],
   "source": [
    "a = np.array([-1,2])\n",
    "b = np.array([[3,1],[1,2]])\n",
    "print(a)\n",
    "print(b)\n"
   ]
  },
  {
   "cell_type": "code",
   "execution_count": 6,
   "metadata": {},
   "outputs": [
    {
     "name": "stdout",
     "output_type": "stream",
     "text": [
      "[-1  3]\n",
      "[-1  3]\n"
     ]
    }
   ],
   "source": [
    "print(b.dot(a)) \n"
   ]
  },
  {
   "cell_type": "code",
   "execution_count": 7,
   "metadata": {},
   "outputs": [
    {
     "name": "stdout",
     "output_type": "stream",
     "text": [
      "[-1  3]\n"
     ]
    }
   ],
   "source": [
    "print(a.dot(b))"
   ]
  },
  {
   "cell_type": "code",
   "execution_count": 9,
   "metadata": {},
   "outputs": [
    {
     "name": "stdout",
     "output_type": "stream",
     "text": [
      "[-1  3]\n"
     ]
    }
   ],
   "source": [
    "ihat = b[:,0] #i hat \n",
    "jhat = b[:,1] #j hat \n",
    "result = a[0] * ihat + a[1] * jhat\n",
    "print(result)"
   ]
  },
  {
   "cell_type": "markdown",
   "metadata": {},
   "source": [
    "[0,-1]\n",
    "[1,0]\n",
    "这个矩阵的作用是向左旋转90度"
   ]
  },
  {
   "cell_type": "code",
   "execution_count": 19,
   "metadata": {},
   "outputs": [
    {
     "data": {
      "text/plain": [
       "array([-1,  1])"
      ]
     },
     "execution_count": 19,
     "metadata": {},
     "output_type": "execute_result"
    }
   ],
   "source": [
    "left_rotate = np.array([[0,-1],[1,0]])\n",
    "a = np.array([1, 1])\n",
    "left_rotate.dot(a)\n"
   ]
  },
  {
   "cell_type": "markdown",
   "metadata": {},
   "source": [
    "to shear the vector\n",
    "[1,1]\n",
    "[0,1]\n",
    "这个矩阵将jhat推到了(1,1)，同时ihat不变"
   ]
  },
  {
   "cell_type": "code",
   "execution_count": 17,
   "metadata": {},
   "outputs": [
    {
     "data": {
      "text/plain": [
       "array([2, 1])"
      ]
     },
     "execution_count": 17,
     "metadata": {},
     "output_type": "execute_result"
    }
   ],
   "source": [
    "shear_jhat = np.array([[1,1],[0,1]])\n",
    "a = np.array([1,1])\n",
    "shear_jhat.dot(a)"
   ]
  },
  {
   "cell_type": "markdown",
   "metadata": {},
   "source": [
    "接下来我们来看shear_yhat 与 left_rotate这两个变换顺序是否有关系"
   ]
  },
  {
   "cell_type": "code",
   "execution_count": 20,
   "metadata": {},
   "outputs": [
    {
     "name": "stdout",
     "output_type": "stream",
     "text": [
      "[0 1]\n",
      "[-1  2]\n"
     ]
    }
   ],
   "source": [
    "a = np.array([1,1])\n",
    "print(shear_jhat.dot(left_rotate.dot(a)))\n",
    "print(left_rotate.dot(shear_jhat.dot(a)))\n",
    "# 可以看出，顺序不同，结果也不同   "
   ]
  },
  {
   "cell_type": "markdown",
   "metadata": {},
   "source": [
    "[1,1]   [0,-1]     [1,-1]\n",
    "[0,1]   [1,0]   =   [1,0]"
   ]
  }
 ],
 "metadata": {
  "interpreter": {
   "hash": "1513c558104143c9342deba70e5828cd4c39a134479ea9220253fbe85c0c4494"
  },
  "kernelspec": {
   "display_name": "Python 3.9.7 64-bit ('nlp': conda)",
   "language": "python",
   "name": "python3"
  },
  "language_info": {
   "codemirror_mode": {
    "name": "ipython",
    "version": 3
   },
   "file_extension": ".py",
   "mimetype": "text/x-python",
   "name": "python",
   "nbconvert_exporter": "python",
   "pygments_lexer": "ipython3",
   "version": "3.6.13"
  },
  "orig_nbformat": 4
 },
 "nbformat": 4,
 "nbformat_minor": 2
}
