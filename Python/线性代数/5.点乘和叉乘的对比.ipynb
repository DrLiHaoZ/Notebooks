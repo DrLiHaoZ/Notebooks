{
 "cells": [
  {
   "cell_type": "code",
   "execution_count": 1,
   "metadata": {},
   "outputs": [],
   "source": [
    "import numpy as np"
   ]
  },
  {
   "cell_type": "markdown",
   "metadata": {},
   "source": [
    "## Definition of Dot product\n",
    "> A dot product is the product of the magnitude of the vectors and the cos of the angle between them.\n",
    "- $a . b = |a|.|b| cos \\theta$\n",
    "\n",
    "## Definition of Cross product\n",
    "> A cross product is the product of the magnitude of the vectors and the sine of the angle that they subtend on each other."
   ]
  },
  {
   "cell_type": "code",
   "execution_count": 2,
   "metadata": {},
   "outputs": [
    {
     "name": "stdout",
     "output_type": "stream",
     "text": [
      "the element wise multiplication is : [ 4 10 18]\n",
      "the dot product of two vector is : 32\n",
      "another way to dot product: 32\n",
      "[-3  6 -3]\n"
     ]
    }
   ],
   "source": [
    "a = np.array([1,2,3])\n",
    "b = np.array([4,5,6])\n",
    "# first the element wise multiplication\n",
    "print(\"the element wise multiplication is :\", a * b)\n",
    "\n",
    "# the dot product produce a scalar the measure the |a||b|cos(theta)\n",
    "print(\"the dot product of two vector is :\", np.dot(a,b))\n",
    "# here is another way to get dot product of two vector\n",
    "print(\"another way to dot product:\",a @ b)\n",
    "\n",
    "\n",
    "# cross product produce a vector, remember, this vector is perpendicular to the surface by a & b\n",
    "# and the magnitude of the vector is the area of that quadrangle\n",
    "print(np.cross(a,b))\n"
   ]
  },
  {
   "cell_type": "code",
   "execution_count": 25,
   "metadata": {},
   "outputs": [
    {
     "name": "stdout",
     "output_type": "stream",
     "text": [
      "a= [[1 2 3]] \n",
      " b = [[3 4 5]] \n",
      " b.T=\n",
      " [[3]\n",
      " [4]\n",
      " [5]]\n",
      "a matmul b.T = \n",
      " [[26]]\n",
      "a.T matmul b = \n",
      " [[ 3  4  5]\n",
      " [ 6  8 10]\n",
      " [ 9 12 15]]\n"
     ]
    }
   ],
   "source": [
    "a = np.mat([1,2,3])\n",
    "b = np.mat([3,4,5])\n",
    "print('a=',a,'\\n','b =',b,'\\n','b.T=\\n',b.T)\n",
    "#print(\"a matmul b get erro,:\",np.matmul(a,b))\n",
    "print(\"a matmul b.T = \\n\", np.matmul(a,b.T))\n",
    "print(\"a.T matmul b = \\n\",np.matmul(a.T,b))\n"
   ]
  }
 ],
 "metadata": {
  "interpreter": {
   "hash": "1513c558104143c9342deba70e5828cd4c39a134479ea9220253fbe85c0c4494"
  },
  "kernelspec": {
   "display_name": "Python 3.9.7 64-bit ('nlp': conda)",
   "language": "python",
   "name": "python3"
  },
  "language_info": {
   "codemirror_mode": {
    "name": "ipython",
    "version": 3
   },
   "file_extension": ".py",
   "mimetype": "text/x-python",
   "name": "python",
   "nbconvert_exporter": "python",
   "pygments_lexer": "ipython3",
   "version": "3.9.7"
  },
  "orig_nbformat": 4
 },
 "nbformat": 4,
 "nbformat_minor": 2
}
