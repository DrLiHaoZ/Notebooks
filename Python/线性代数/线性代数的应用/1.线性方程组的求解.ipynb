{
 "cells": [
  {
   "cell_type": "markdown",
   "metadata": {},
   "source": []
  },
  {
   "cell_type": "code",
   "execution_count": 2,
   "metadata": {},
   "outputs": [],
   "source": [
    "import numpy as np"
   ]
  },
  {
   "cell_type": "code",
   "execution_count": null,
   "metadata": {},
   "outputs": [],
   "source": [
    "# x = 5,y = 1\n",
    "# 2x + y = 11\n",
    "# 4x - y = 19"
   ]
  },
  {
   "cell_type": "code",
   "execution_count": 7,
   "metadata": {},
   "outputs": [
    {
     "name": "stdout",
     "output_type": "stream",
     "text": [
      "[5. 1.]\n",
      "[5. 1.]\n"
     ]
    }
   ],
   "source": [
    "a = np.array([[2,1],[4,-1]])\n",
    "a_inv = np.linalg.inv(a)\n",
    "result = a_inv.dot(np.array([11,19]))\n",
    "result2 = np.dot(a_inv,np.array([11,19]))\n",
    "print(result)\n",
    "print(result2)"
   ]
  }
 ],
 "metadata": {
  "interpreter": {
   "hash": "658f2c8c08232f4d071abc7de22d46f1ac00b3f0cb9659e9d4511b6bb957757a"
  },
  "kernelspec": {
   "display_name": "Python 3.9.10 ('base')",
   "language": "python",
   "name": "python3"
  },
  "language_info": {
   "codemirror_mode": {
    "name": "ipython",
    "version": 3
   },
   "file_extension": ".py",
   "mimetype": "text/x-python",
   "name": "python",
   "nbconvert_exporter": "python",
   "pygments_lexer": "ipython3",
   "version": "3.9.10"
  },
  "orig_nbformat": 4
 },
 "nbformat": 4,
 "nbformat_minor": 2
}
