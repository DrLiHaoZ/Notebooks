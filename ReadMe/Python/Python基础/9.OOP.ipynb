{
 "cells": [
  {
   "cell_type": "code",
   "execution_count": 2,
   "metadata": {},
   "outputs": [
    {
     "name": "stdout",
     "output_type": "stream",
     "text": [
      "li\n"
     ]
    }
   ],
   "source": [
    "class Employee:\n",
    "    def __init__(self,first_name,last_name,pay):\n",
    "        self.first_name = first_name\n",
    "        self.last_name = last_name\n",
    "        self.pay = pay\n",
    "\n",
    "\n",
    "emp1 = Employee('li','hao',500)\n",
    "print(emp1.first_name)\n"
   ]
  },
  {
   "cell_type": "code",
   "execution_count": 4,
   "metadata": {},
   "outputs": [
    {
     "data": {
      "text/plain": [
       "<__main__.New_Employee at 0x7fa9354445e0>"
      ]
     },
     "execution_count": 4,
     "metadata": {},
     "output_type": "execute_result"
    }
   ],
   "source": [
    "class New_Employee(Employee):\n",
    "    def __init__(self,first_name,last_name,pay,other):\n",
    "        super().__init__(first_name,last_name,pay)\n",
    "        self.other = other\n",
    "\n",
    "emp2 = New_Employee('hao','ji',333,'deded')\n",
    "emp2\n",
    "    "
   ]
  },
  {
   "cell_type": "code",
   "execution_count": 7,
   "metadata": {},
   "outputs": [
    {
     "name": "stdout",
     "output_type": "stream",
     "text": [
      "you call the __init__ from class A with attribute jiba\n"
     ]
    }
   ],
   "source": [
    "class A:\n",
    "    def __init__(self,x):\n",
    "        print('you call the __init__ from class A with attribute {x}'.format(x = x))\n",
    "\n",
    "class B(A):\n",
    "    def __init__(self,x):\n",
    "        super().__init__(x)\n",
    "\n",
    "b = B('jiba')"
   ]
  }
 ],
 "metadata": {
  "kernelspec": {
   "display_name": "Python 3.10.4 ('learn')",
   "language": "python",
   "name": "python3"
  },
  "language_info": {
   "codemirror_mode": {
    "name": "ipython",
    "version": 3
   },
   "file_extension": ".py",
   "mimetype": "text/x-python",
   "name": "python",
   "nbconvert_exporter": "python",
   "pygments_lexer": "ipython3",
   "version": "3.10.4"
  },
  "orig_nbformat": 4,
  "vscode": {
   "interpreter": {
    "hash": "a4c39bf5c532ea85a5aec19f1d457a221beb1f209d6e80ac8a96df5ecd703d29"
   }
  }
 },
 "nbformat": 4,
 "nbformat_minor": 2
}
