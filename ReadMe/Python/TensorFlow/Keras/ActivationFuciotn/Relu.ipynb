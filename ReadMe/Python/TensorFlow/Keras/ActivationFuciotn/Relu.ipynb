{
 "cells": [
  {
   "cell_type": "code",
   "execution_count": 12,
   "metadata": {},
   "outputs": [],
   "source": [
    "import tensorflow as tf\n",
    "from tensorflow import keras\n",
    "import numpy as np\n",
    "import matplotlib.pyplot as plt"
   ]
  },
  {
   "cell_type": "code",
   "execution_count": 6,
   "metadata": {},
   "outputs": [
    {
     "name": "stdout",
     "output_type": "stream",
     "text": [
      "tf.Tensor([ 5  9  1  9  6  5  4 -1  9  3], shape=(10,), dtype=int32)\n",
      "tf.Tensor([5 9 1 9 6 5 4 0 9 3], shape=(10,), dtype=int32)\n"
     ]
    }
   ],
   "source": [
    "X = tf.constant(np.random.randint( low = -1 ,high = 10 ,size = 10))\n",
    "print(X)\n",
    "print(keras.activations.relu(X))\n"
   ]
  },
  {
   "cell_type": "code",
   "execution_count": 13,
   "metadata": {},
   "outputs": [
    {
     "data": {
      "text/plain": [
       "[<matplotlib.lines.Line2D at 0x2a08c35a710>,\n",
       " <matplotlib.lines.Line2D at 0x2a08c35a7b8>,\n",
       " <matplotlib.lines.Line2D at 0x2a08c35a828>,\n",
       " <matplotlib.lines.Line2D at 0x2a08c35a8d0>,\n",
       " <matplotlib.lines.Line2D at 0x2a08c35a978>,\n",
       " <matplotlib.lines.Line2D at 0x2a08c35aa20>,\n",
       " <matplotlib.lines.Line2D at 0x2a08c35aac8>,\n",
       " <matplotlib.lines.Line2D at 0x2a08c35ab70>,\n",
       " <matplotlib.lines.Line2D at 0x2a08c35ac18>,\n",
       " <matplotlib.lines.Line2D at 0x2a08c35acc0>]"
      ]
     },
     "execution_count": 13,
     "metadata": {},
     "output_type": "execute_result"
    },
    {
     "data": {
      "image/png": "[encoded data removed]",
      "text/plain": [
       "<Figure size 432x288 with 1 Axes>"
      ]
     },
     "metadata": {
      "needs_background": "light"
     },
     "output_type": "display_data"
    }
   ],
   "source": [
    "X = np.random.normal(size=(10,10))\n",
    "y = tf.keras.activations.relu(X).numpy()\n",
    "\n",
    "plt.plot(X,y,'ro')"
   ]
  }
 ],
 "metadata": {
  "interpreter": {
   "hash": "5bb6dbbe88fcdce4ecef9aa52b6a97bbb516d58d945fae59c885187edba63ce9"
  },
  "kernelspec": {
   "display_name": "Python 3.6.13 ('nlp')",
   "language": "python",
   "name": "python3"
  },
  "language_info": {
   "codemirror_mode": {
    "name": "ipython",
    "version": 3
   },
   "file_extension": ".py",
   "mimetype": "text/x-python",
   "name": "python",
   "nbconvert_exporter": "python",
   "pygments_lexer": "ipython3",
   "version": "3.6.13"
  },
  "orig_nbformat": 4
 },
 "nbformat": 4,
 "nbformat_minor": 2
}
