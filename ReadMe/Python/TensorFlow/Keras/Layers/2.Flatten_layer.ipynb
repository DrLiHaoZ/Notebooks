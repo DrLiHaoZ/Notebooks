{
 "cells": [
  {
   "cell_type": "code",
   "execution_count": 1,
   "metadata": {},
   "outputs": [],
   "source": [
    "import tensorflow as tf\n",
    "from tensorflow import keras\n",
    "import numpy as np\n"
   ]
  },
  {
   "cell_type": "code",
   "execution_count": 5,
   "metadata": {},
   "outputs": [
    {
     "data": {
      "text/plain": [
       "<tf.Tensor: shape=(1, 10, 10, 1), dtype=float32, numpy=\n",
       "array([[[[  1.],\n",
       "         [  2.],\n",
       "         [  3.],\n",
       "         [  4.],\n",
       "         [  5.],\n",
       "         [  6.],\n",
       "         [  7.],\n",
       "         [  8.],\n",
       "         [  9.],\n",
       "         [ 10.]],\n",
       "\n",
       "        [[ 11.],\n",
       "         [ 12.],\n",
       "         [ 13.],\n",
       "         [ 14.],\n",
       "         [ 15.],\n",
       "         [ 16.],\n",
       "         [ 17.],\n",
       "         [ 18.],\n",
       "         [ 19.],\n",
       "         [ 20.]],\n",
       "\n",
       "        [[ 21.],\n",
       "         [ 22.],\n",
       "         [ 23.],\n",
       "         [ 24.],\n",
       "         [ 25.],\n",
       "         [ 26.],\n",
       "         [ 27.],\n",
       "         [ 28.],\n",
       "         [ 29.],\n",
       "         [ 30.]],\n",
       "\n",
       "        [[ 31.],\n",
       "         [ 32.],\n",
       "         [ 33.],\n",
       "         [ 34.],\n",
       "         [ 35.],\n",
       "         [ 36.],\n",
       "         [ 37.],\n",
       "         [ 38.],\n",
       "         [ 39.],\n",
       "         [ 40.]],\n",
       "\n",
       "        [[ 41.],\n",
       "         [ 42.],\n",
       "         [ 43.],\n",
       "         [ 44.],\n",
       "         [ 45.],\n",
       "         [ 46.],\n",
       "         [ 47.],\n",
       "         [ 48.],\n",
       "         [ 49.],\n",
       "         [ 50.]],\n",
       "\n",
       "        [[ 51.],\n",
       "         [ 52.],\n",
       "         [ 53.],\n",
       "         [ 54.],\n",
       "         [ 55.],\n",
       "         [ 56.],\n",
       "         [ 57.],\n",
       "         [ 58.],\n",
       "         [ 59.],\n",
       "         [ 60.]],\n",
       "\n",
       "        [[ 61.],\n",
       "         [ 62.],\n",
       "         [ 63.],\n",
       "         [ 64.],\n",
       "         [ 65.],\n",
       "         [ 66.],\n",
       "         [ 67.],\n",
       "         [ 68.],\n",
       "         [ 69.],\n",
       "         [ 70.]],\n",
       "\n",
       "        [[ 71.],\n",
       "         [ 72.],\n",
       "         [ 73.],\n",
       "         [ 74.],\n",
       "         [ 75.],\n",
       "         [ 76.],\n",
       "         [ 77.],\n",
       "         [ 78.],\n",
       "         [ 79.],\n",
       "         [ 80.]],\n",
       "\n",
       "        [[ 81.],\n",
       "         [ 82.],\n",
       "         [ 83.],\n",
       "         [ 84.],\n",
       "         [ 85.],\n",
       "         [ 86.],\n",
       "         [ 87.],\n",
       "         [ 88.],\n",
       "         [ 89.],\n",
       "         [ 90.]],\n",
       "\n",
       "        [[ 91.],\n",
       "         [ 92.],\n",
       "         [ 93.],\n",
       "         [ 94.],\n",
       "         [ 95.],\n",
       "         [ 96.],\n",
       "         [ 97.],\n",
       "         [ 98.],\n",
       "         [ 99.],\n",
       "         [100.]]]], dtype=float32)>"
      ]
     },
     "execution_count": 5,
     "metadata": {},
     "output_type": "execute_result"
    }
   ],
   "source": [
    "X = tf.constant(np.arange(1,101),shape = (1,10,10,1),dtype = tf.float32)\n",
    "X"
   ]
  },
  {
   "cell_type": "code",
   "execution_count": 14,
   "metadata": {},
   "outputs": [
    {
     "name": "stdout",
     "output_type": "stream",
     "text": [
      "(1, 10, 10, 1)\n",
      "tf.Tensor(\n",
      "[[  1.   2.   3.   4.   5.   6.   7.   8.   9.  10.]\n",
      " [ 11.  12.  13.  14.  15.  16.  17.  18.  19.  20.]\n",
      " [ 21.  22.  23.  24.  25.  26.  27.  28.  29.  30.]\n",
      " [ 31.  32.  33.  34.  35.  36.  37.  38.  39.  40.]\n",
      " [ 41.  42.  43.  44.  45.  46.  47.  48.  49.  50.]\n",
      " [ 51.  52.  53.  54.  55.  56.  57.  58.  59.  60.]\n",
      " [ 61.  62.  63.  64.  65.  66.  67.  68.  69.  70.]\n",
      " [ 71.  72.  73.  74.  75.  76.  77.  78.  79.  80.]\n",
      " [ 81.  82.  83.  84.  85.  86.  87.  88.  89.  90.]\n",
      " [ 91.  92.  93.  94.  95.  96.  97.  98.  99. 100.]], shape=(10, 10), dtype=float32)\n"
     ]
    }
   ],
   "source": [
    "print(X.shape)\n",
    "print(tf.squeeze(X, axis = (0,-1)))"
   ]
  },
  {
   "cell_type": "code",
   "execution_count": 15,
   "metadata": {},
   "outputs": [
    {
     "data": {
      "text/plain": [
       "<tf.Tensor: shape=(1, 100), dtype=float32, numpy=\n",
       "array([[  1.,   2.,   3.,   4.,   5.,   6.,   7.,   8.,   9.,  10.,  11.,\n",
       "         12.,  13.,  14.,  15.,  16.,  17.,  18.,  19.,  20.,  21.,  22.,\n",
       "         23.,  24.,  25.,  26.,  27.,  28.,  29.,  30.,  31.,  32.,  33.,\n",
       "         34.,  35.,  36.,  37.,  38.,  39.,  40.,  41.,  42.,  43.,  44.,\n",
       "         45.,  46.,  47.,  48.,  49.,  50.,  51.,  52.,  53.,  54.,  55.,\n",
       "         56.,  57.,  58.,  59.,  60.,  61.,  62.,  63.,  64.,  65.,  66.,\n",
       "         67.,  68.,  69.,  70.,  71.,  72.,  73.,  74.,  75.,  76.,  77.,\n",
       "         78.,  79.,  80.,  81.,  82.,  83.,  84.,  85.,  86.,  87.,  88.,\n",
       "         89.,  90.,  91.,  92.,  93.,  94.,  95.,  96.,  97.,  98.,  99.,\n",
       "        100.]], dtype=float32)>"
      ]
     },
     "execution_count": 15,
     "metadata": {},
     "output_type": "execute_result"
    }
   ],
   "source": [
    "flat_layer = keras.layers.Flatten()\n",
    "flat_layer(X)"
   ]
  },
  {
   "cell_type": "code",
   "execution_count": 10,
   "metadata": {},
   "outputs": [
    {
     "name": "stdout",
     "output_type": "stream",
     "text": [
      "tf.Tensor(\n",
      "[[[[6 5 1]\n",
      "   [6 5 4]\n",
      "   [1 9 3]]\n",
      "\n",
      "  [[8 3 2]\n",
      "   [3 1 3]\n",
      "   [0 4 5]]\n",
      "\n",
      "  [[3 2 9]\n",
      "   [2 6 4]\n",
      "   [6 9 8]]]\n",
      "\n",
      "\n",
      " [[[9 5 9]\n",
      "   [3 5 8]\n",
      "   [3 0 9]]\n",
      "\n",
      "  [[3 0 1]\n",
      "   [7 9 2]\n",
      "   [4 9 5]]\n",
      "\n",
      "  [[0 3 2]\n",
      "   [7 3 0]\n",
      "   [1 7 5]]]], shape=(2, 3, 3, 3), dtype=int32)\n"
     ]
    },
    {
     "data": {
      "text/plain": [
       "<tf.Tensor: shape=(2, 27), dtype=int32, numpy=\n",
       "array([[6, 5, 1, 6, 5, 4, 1, 9, 3, 8, 3, 2, 3, 1, 3, 0, 4, 5, 3, 2, 9, 2,\n",
       "        6, 4, 6, 9, 8],\n",
       "       [9, 5, 9, 3, 5, 8, 3, 0, 9, 3, 0, 1, 7, 9, 2, 4, 9, 5, 0, 3, 2, 7,\n",
       "        3, 0, 1, 7, 5]])>"
      ]
     },
     "execution_count": 10,
     "metadata": {},
     "output_type": "execute_result"
    }
   ],
   "source": [
    "X = tf.constant(np.random.randint(low=0,high=10,size=54),dtype=tf.int32)\n",
    "X = tf.reshape(X,shape=(2,3,3,3))\n",
    "print(X)\n",
    "flat_layer = keras.layers.Flatten()\n",
    "flat_layer(X)"
   ]
  }
 ],
 "metadata": {
  "interpreter": {
   "hash": "1513c558104143c9342deba70e5828cd4c39a134479ea9220253fbe85c0c4494"
  },
  "kernelspec": {
   "display_name": "Python 3.9.7 64-bit ('nlp': conda)",
   "language": "python",
   "name": "python3"
  },
  "language_info": {
   "codemirror_mode": {
    "name": "ipython",
    "version": 3
   },
   "file_extension": ".py",
   "mimetype": "text/x-python",
   "name": "python",
   "nbconvert_exporter": "python",
   "pygments_lexer": "ipython3",
   "version": "3.6.13"
  },
  "orig_nbformat": 4
 },
 "nbformat": 4,
 "nbformat_minor": 2
}
