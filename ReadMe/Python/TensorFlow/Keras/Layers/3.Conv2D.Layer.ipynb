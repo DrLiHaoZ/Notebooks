{
 "cells": [
  {
   "cell_type": "code",
   "execution_count": 1,
   "metadata": {},
   "outputs": [],
   "source": [
    "import numpy as np\n",
    "import tensorflow as tf \n",
    "from tensorflow import keras\n",
    "import matplotlib.pyplot as plt\n",
    "import numpy as np\n"
   ]
  },
  {
   "cell_type": "code",
   "execution_count": 24,
   "metadata": {},
   "outputs": [],
   "source": [
    "my_kernel = tf.constant(np.array([\n",
    "    [0,0,0],\n",
    "    [0,1,0],\n",
    "    [0,0,0]\n",
    "]), dtype = tf.float32)\n",
    "\n",
    "my_kernel = tf.reshape(my_kernel,shape = (1,3,3,1))"
   ]
  },
  {
   "cell_type": "code",
   "execution_count": 2,
   "metadata": {},
   "outputs": [
    {
     "name": "stdout",
     "output_type": "stream",
     "text": [
      "Metal device set to: Apple M1 Pro\n",
      "\n",
      "systemMemory: 16.00 GB\n",
      "maxCacheSize: 5.33 GB\n",
      "\n"
     ]
    },
    {
     "name": "stderr",
     "output_type": "stream",
     "text": [
      "2022-08-22 13:54:29.810379: I tensorflow/core/common_runtime/pluggable_device/pluggable_device_factory.cc:305] Could not identify NUMA node of platform GPU ID 0, defaulting to 0. Your kernel may not have been built with NUMA support.\n",
      "2022-08-22 13:54:29.810509: I tensorflow/core/common_runtime/pluggable_device/pluggable_device_factory.cc:271] Created TensorFlow device (/job:localhost/replica:0/task:0/device:GPU:0 with 0 MB memory) -> physical PluggableDevice (device: 0, name: METAL, pci bus id: <undefined>)\n"
     ]
    },
    {
     "data": {
      "text/plain": [
       "<tf.Tensor: shape=(1, 6, 6, 1), dtype=float32, numpy=\n",
       "array([[[[5.],\n",
       "         [8.],\n",
       "         [0.],\n",
       "         [9.],\n",
       "         [6.],\n",
       "         [2.]],\n",
       "\n",
       "        [[3.],\n",
       "         [3.],\n",
       "         [8.],\n",
       "         [1.],\n",
       "         [1.],\n",
       "         [6.]],\n",
       "\n",
       "        [[8.],\n",
       "         [9.],\n",
       "         [8.],\n",
       "         [2.],\n",
       "         [6.],\n",
       "         [8.]],\n",
       "\n",
       "        [[1.],\n",
       "         [2.],\n",
       "         [9.],\n",
       "         [6.],\n",
       "         [9.],\n",
       "         [7.]],\n",
       "\n",
       "        [[5.],\n",
       "         [6.],\n",
       "         [6.],\n",
       "         [6.],\n",
       "         [4.],\n",
       "         [8.]],\n",
       "\n",
       "        [[4.],\n",
       "         [5.],\n",
       "         [6.],\n",
       "         [9.],\n",
       "         [4.],\n",
       "         [4.]]]], dtype=float32)>"
      ]
     },
     "execution_count": 2,
     "metadata": {},
     "output_type": "execute_result"
    },
    {
     "data": {
      "image/png": "[encoded data removed]",
      "text/plain": [
       "<Figure size 432x288 with 1 Axes>"
      ]
     },
     "metadata": {
      "needs_background": "light"
     },
     "output_type": "display_data"
    }
   ],
   "source": [
    "image = tf.constant(np.random.randint(low = 0, high = 10, size = 36),shape = (6,6),dtype = tf.float32)\n",
    "plt.imshow(image)\n",
    "image = tf.reshape(tensor = image,shape = (1,6,6,1))\n",
    "image"
   ]
  },
  {
   "cell_type": "code",
   "execution_count": 6,
   "metadata": {},
   "outputs": [
    {
     "name": "stdout",
     "output_type": "stream",
     "text": [
      "(1, 2, 2, 1)\n"
     ]
    }
   ],
   "source": [
    "\n",
    "y = tf.keras.layers.Conv2D(1, 5, activation='relu', input_shape=image.shape[1:])(image)\n",
    "print(y.shape)"
   ]
  },
  {
   "cell_type": "code",
   "execution_count": 1,
   "metadata": {},
   "outputs": [
    {
     "data": {
      "text/plain": [
       "(28, 28, 3)"
      ]
     },
     "execution_count": 1,
     "metadata": {},
     "output_type": "execute_result"
    }
   ],
   "source": []
  }
 ],
 "metadata": {
  "kernelspec": {
   "display_name": "Python 3.9.10 ('base')",
   "language": "python",
   "name": "python3"
  },
  "language_info": {
   "codemirror_mode": {
    "name": "ipython",
    "version": 3
   },
   "file_extension": ".py",
   "mimetype": "text/x-python",
   "name": "python",
   "nbconvert_exporter": "python",
   "pygments_lexer": "ipython3",
   "version": "3.9.10"
  },
  "orig_nbformat": 4,
  "vscode": {
   "interpreter": {
    "hash": "658f2c8c08232f4d071abc7de22d46f1ac00b3f0cb9659e9d4511b6bb957757a"
   }
  }
 },
 "nbformat": 4,
 "nbformat_minor": 2
}
