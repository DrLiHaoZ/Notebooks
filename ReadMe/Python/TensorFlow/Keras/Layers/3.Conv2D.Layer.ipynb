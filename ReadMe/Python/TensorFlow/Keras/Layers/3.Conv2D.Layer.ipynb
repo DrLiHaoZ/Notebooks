{
 "cells": [
  {
   "cell_type": "code",
   "execution_count": null,
   "metadata": {},
   "outputs": [],
   "source": [
    "import numpy as np\n",
    "import tensorflow as tf \n",
    "from tensorflow import keras\n",
    "import matplotlib.pyplot as plt\n",
    "import numpy as np\n"
   ]
  },
  {
   "cell_type": "code",
   "execution_count": 24,
   "metadata": {},
   "outputs": [],
   "source": [
    "my_kernel = tf.constant(np.array([\n",
    "    [0,0,0],\n",
    "    [0,1,0],\n",
    "    [0,0,0]\n",
    "]), dtype = tf.float32)\n",
    "\n",
    "my_kernel = tf.reshape(my_kernel,shape = (1,3,3,1))"
   ]
  },
  {
   "cell_type": "code",
   "execution_count": 27,
   "metadata": {},
   "outputs": [
    {
     "data": {
      "text/plain": [
       "<tf.Tensor: shape=(1, 6, 6, 1), dtype=float32, numpy=\n",
       "array([[[[8.],\n",
       "         [5.],\n",
       "         [5.],\n",
       "         [0.],\n",
       "         [8.],\n",
       "         [6.]],\n",
       "\n",
       "        [[8.],\n",
       "         [3.],\n",
       "         [8.],\n",
       "         [9.],\n",
       "         [2.],\n",
       "         [9.]],\n",
       "\n",
       "        [[5.],\n",
       "         [9.],\n",
       "         [5.],\n",
       "         [1.],\n",
       "         [6.],\n",
       "         [4.]],\n",
       "\n",
       "        [[3.],\n",
       "         [5.],\n",
       "         [6.],\n",
       "         [6.],\n",
       "         [2.],\n",
       "         [8.]],\n",
       "\n",
       "        [[7.],\n",
       "         [5.],\n",
       "         [3.],\n",
       "         [2.],\n",
       "         [6.],\n",
       "         [9.]],\n",
       "\n",
       "        [[4.],\n",
       "         [5.],\n",
       "         [9.],\n",
       "         [2.],\n",
       "         [6.],\n",
       "         [8.]]]], dtype=float32)>"
      ]
     },
     "execution_count": 27,
     "metadata": {},
     "output_type": "execute_result"
    },
    {
     "data": {
      "image/png": "[encoded data removed]",
      "text/plain": [
       "<Figure size 432x288 with 1 Axes>"
      ]
     },
     "metadata": {
      "needs_background": "light"
     },
     "output_type": "display_data"
    }
   ],
   "source": [
    "image = tf.constant(np.random.randint(low = 0, high = 10, size = 36),shape = (6,6),dtype = tf.float32)\n",
    "plt.imshow(image)\n",
    "image = tf.reshape(tensor = image,shape = (1,6,6,1))\n",
    "image"
   ]
  },
  {
   "cell_type": "code",
   "execution_count": 29,
   "metadata": {},
   "outputs": [
    {
     "name": "stderr",
     "output_type": "stream",
     "text": [
      "2022-02-18 13:33:14.074218: W tensorflow/core/framework/op_kernel.cc:1745] OP_REQUIRES failed at conv_ops.cc:675 : INVALID_ARGUMENT: input depth must be evenly divisible by filter depth: 1 vs 3\n"
     ]
    },
    {
     "ename": "InvalidArgumentError",
     "evalue": "input depth must be evenly divisible by filter depth: 1 vs 3 [Op:Conv2D]",
     "output_type": "error",
     "traceback": [
      "\u001b[0;31m---------------------------------------------------------------------------\u001b[0m",
      "\u001b[0;31mInvalidArgumentError\u001b[0m                      Traceback (most recent call last)",
      "\u001b[1;32m/Users/lihao/Desktop/MindmapDXY/ReadMe/Python/NLP/Keras/Layers/3.Conv2D.Layer.ipynb Cell 4'\u001b[0m in \u001b[0;36m<module>\u001b[0;34m\u001b[0m\n\u001b[0;32m----> <a href='vscode-notebook-cell:/Users/lihao/Desktop/MindmapDXY/ReadMe/Python/NLP/Keras/Layers/3.Conv2D.Layer.ipynb#ch0000003?line=0'>1</a>\u001b[0m tf\u001b[39m.\u001b[39;49mnn\u001b[39m.\u001b[39;49mconv2d(\u001b[39minput\u001b[39;49m \u001b[39m=\u001b[39;49m image, \n\u001b[1;32m      <a href='vscode-notebook-cell:/Users/lihao/Desktop/MindmapDXY/ReadMe/Python/NLP/Keras/Layers/3.Conv2D.Layer.ipynb#ch0000003?line=1'>2</a>\u001b[0m              filters \u001b[39m=\u001b[39;49m my_kernel,\n\u001b[1;32m      <a href='vscode-notebook-cell:/Users/lihao/Desktop/MindmapDXY/ReadMe/Python/NLP/Keras/Layers/3.Conv2D.Layer.ipynb#ch0000003?line=2'>3</a>\u001b[0m              strides \u001b[39m=\u001b[39;49m \u001b[39m3\u001b[39;49m,\n\u001b[1;32m      <a href='vscode-notebook-cell:/Users/lihao/Desktop/MindmapDXY/ReadMe/Python/NLP/Keras/Layers/3.Conv2D.Layer.ipynb#ch0000003?line=3'>4</a>\u001b[0m              padding \u001b[39m=\u001b[39;49m \u001b[39m\"\u001b[39;49m\u001b[39mVALID\u001b[39;49m\u001b[39m\"\u001b[39;49m\n\u001b[1;32m      <a href='vscode-notebook-cell:/Users/lihao/Desktop/MindmapDXY/ReadMe/Python/NLP/Keras/Layers/3.Conv2D.Layer.ipynb#ch0000003?line=4'>5</a>\u001b[0m              )\n",
      "File \u001b[0;32m~/anaconda3/envs/learn/lib/python3.9/site-packages/tensorflow/python/util/traceback_utils.py:153\u001b[0m, in \u001b[0;36mfilter_traceback.<locals>.error_handler\u001b[0;34m(*args, **kwargs)\u001b[0m\n\u001b[1;32m    <a href='file:///~/anaconda3/envs/learn/lib/python3.9/site-packages/tensorflow/python/util/traceback_utils.py?line=150'>151</a>\u001b[0m \u001b[39mexcept\u001b[39;00m \u001b[39mException\u001b[39;00m \u001b[39mas\u001b[39;00m e:\n\u001b[1;32m    <a href='file:///~/anaconda3/envs/learn/lib/python3.9/site-packages/tensorflow/python/util/traceback_utils.py?line=151'>152</a>\u001b[0m   filtered_tb \u001b[39m=\u001b[39m _process_traceback_frames(e\u001b[39m.\u001b[39m__traceback__)\n\u001b[0;32m--> <a href='file:///~/anaconda3/envs/learn/lib/python3.9/site-packages/tensorflow/python/util/traceback_utils.py?line=152'>153</a>\u001b[0m   \u001b[39mraise\u001b[39;00m e\u001b[39m.\u001b[39mwith_traceback(filtered_tb) \u001b[39mfrom\u001b[39;00m \u001b[39mNone\u001b[39m\n\u001b[1;32m    <a href='file:///~/anaconda3/envs/learn/lib/python3.9/site-packages/tensorflow/python/util/traceback_utils.py?line=153'>154</a>\u001b[0m \u001b[39mfinally\u001b[39;00m:\n\u001b[1;32m    <a href='file:///~/anaconda3/envs/learn/lib/python3.9/site-packages/tensorflow/python/util/traceback_utils.py?line=154'>155</a>\u001b[0m   \u001b[39mdel\u001b[39;00m filtered_tb\n",
      "File \u001b[0;32m~/anaconda3/envs/learn/lib/python3.9/site-packages/tensorflow/python/framework/ops.py:7107\u001b[0m, in \u001b[0;36mraise_from_not_ok_status\u001b[0;34m(e, name)\u001b[0m\n\u001b[1;32m   <a href='file:///~/anaconda3/envs/learn/lib/python3.9/site-packages/tensorflow/python/framework/ops.py?line=7104'>7105</a>\u001b[0m \u001b[39mdef\u001b[39;00m \u001b[39mraise_from_not_ok_status\u001b[39m(e, name):\n\u001b[1;32m   <a href='file:///~/anaconda3/envs/learn/lib/python3.9/site-packages/tensorflow/python/framework/ops.py?line=7105'>7106</a>\u001b[0m   e\u001b[39m.\u001b[39mmessage \u001b[39m+\u001b[39m\u001b[39m=\u001b[39m (\u001b[39m\"\u001b[39m\u001b[39m name: \u001b[39m\u001b[39m\"\u001b[39m \u001b[39m+\u001b[39m name \u001b[39mif\u001b[39;00m name \u001b[39mis\u001b[39;00m \u001b[39mnot\u001b[39;00m \u001b[39mNone\u001b[39;00m \u001b[39melse\u001b[39;00m \u001b[39m\"\u001b[39m\u001b[39m\"\u001b[39m)\n\u001b[0;32m-> <a href='file:///~/anaconda3/envs/learn/lib/python3.9/site-packages/tensorflow/python/framework/ops.py?line=7106'>7107</a>\u001b[0m   \u001b[39mraise\u001b[39;00m core\u001b[39m.\u001b[39m_status_to_exception(e) \u001b[39mfrom\u001b[39;00m \u001b[39mNone\u001b[39m\n",
      "\u001b[0;31mInvalidArgumentError\u001b[0m: input depth must be evenly divisible by filter depth: 1 vs 3 [Op:Conv2D]"
     ]
    }
   ],
   "source": [
    "tf.nn.conv2d(input = image, \n",
    "             filters = my_kernel,\n",
    "             strides = 3,\n",
    "             padding = \"VALID\"\n",
    "             )"
   ]
  }
 ],
 "metadata": {
  "interpreter": {
   "hash": "bc00d93549840f82d8acc721d5c7e03f45705ab4bd4c4e913c35136c2ef2ccbe"
  },
  "kernelspec": {
   "display_name": "Python 3.9.7 64-bit ('learn': conda)",
   "language": "python",
   "name": "python3"
  },
  "language_info": {
   "codemirror_mode": {
    "name": "ipython",
    "version": 3
   },
   "file_extension": ".py",
   "mimetype": "text/x-python",
   "name": "python",
   "nbconvert_exporter": "python",
   "pygments_lexer": "ipython3",
   "version": "3.9.7"
  },
  "orig_nbformat": 4
 },
 "nbformat": 4,
 "nbformat_minor": 2
}
