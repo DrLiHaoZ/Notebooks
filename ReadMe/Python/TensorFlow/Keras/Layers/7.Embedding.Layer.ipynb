{
 "cells": [
  {
   "cell_type": "code",
   "execution_count": 2,
   "metadata": {},
   "outputs": [],
   "source": [
    "import tensorflow as tf\n",
    "import numpy as np"
   ]
  },
  {
   "cell_type": "code",
   "execution_count": 18,
   "metadata": {},
   "outputs": [],
   "source": [
    "model = tf.keras.Sequential()\n",
    "model.add(tf.keras.layers.Embedding(1000, 10, input_length=5))\n",
    "# The model will take as input an integer matrix of size (batch,\n",
    "# input_length), and the largest integer (i.e. word index) in the input\n",
    "# should be no larger than 999 (vocabulary size).\n",
    "# Now model.output_shape is (None, 10, 64), where `None` is the batch\n",
    "# dimension.\n",
    "input_array = np.random.randint(500, size=(2, 5))\n",
    "model.compile('rmsprop', 'mse')\n",
    "output_array = model.predict(input_array)\n",
    "\n"
   ]
  },
  {
   "cell_type": "code",
   "execution_count": 19,
   "metadata": {},
   "outputs": [
    {
     "name": "stdout",
     "output_type": "stream",
     "text": [
      "(2, 5)\n",
      "(2, 5, 10)\n"
     ]
    }
   ],
   "source": [
    "print(input_array.shape)\n",
    "print(output_array.shape)"
   ]
  },
  {
   "cell_type": "code",
   "execution_count": 16,
   "metadata": {},
   "outputs": [
    {
     "name": "stdout",
     "output_type": "stream",
     "text": [
      "[[787 445 333 593 383]\n",
      " [739 340 224  56 940]]\n",
      "[[[-4.8132349e-02 -2.4667669e-02  3.2819297e-02 -2.9491043e-02\n",
      "    1.7019026e-03 -2.4550879e-02  3.6653880e-02 -2.3082351e-02\n",
      "    1.8248055e-02  2.4836268e-02]\n",
      "  [ 6.2386282e-03 -3.2297507e-02 -3.1866252e-02 -1.8634357e-02\n",
      "   -4.3269157e-02  3.9671134e-02  2.8236065e-02 -2.4621002e-03\n",
      "    3.4700409e-03 -2.8689539e-02]\n",
      "  [ 1.4745746e-02 -2.3771061e-02  4.7892120e-02 -4.1616142e-02\n",
      "    4.9671400e-02 -1.0804940e-02 -7.2166212e-03 -1.2817919e-02\n",
      "   -3.1487681e-02 -3.8557537e-03]\n",
      "  [-2.5672603e-02  1.8922810e-02 -2.6545668e-02 -3.3406518e-02\n",
      "    3.6452975e-02 -4.8217475e-02 -2.3536026e-02 -2.1926165e-02\n",
      "    1.5568946e-02 -4.1610230e-02]\n",
      "  [-2.8607404e-02  3.8779858e-02  2.8688435e-02 -9.8046288e-03\n",
      "    2.8758716e-02 -3.7185110e-02 -3.6942374e-02  3.2158677e-02\n",
      "   -8.2033873e-03 -1.8595539e-02]]\n",
      "\n",
      " [[ 4.2296577e-02  3.0307379e-02  3.2681216e-02  2.8084543e-02\n",
      "   -5.0205477e-03 -3.6246955e-02 -2.0082105e-02 -1.5141737e-02\n",
      "   -1.4566161e-02 -3.9647222e-02]\n",
      "  [-1.4646448e-02 -1.3328038e-02  4.9255732e-02  2.2147074e-03\n",
      "   -1.1714291e-02 -2.8598059e-02 -4.4256248e-02  3.0719820e-02\n",
      "    3.0479360e-02  3.2560233e-02]\n",
      "  [ 2.3563217e-02  3.0219737e-02  4.2044032e-02 -4.4352498e-02\n",
      "   -2.4543881e-02  4.3363087e-03 -3.7389744e-02  2.7669195e-02\n",
      "    3.9169583e-02  4.9974691e-02]\n",
      "  [-8.9802966e-03  1.1299372e-02  4.5534085e-02  3.0640248e-02\n",
      "   -3.5822105e-02  1.1531722e-02  2.8412450e-02 -1.3407160e-02\n",
      "    3.5468224e-02 -1.4905252e-02]\n",
      "  [-8.3560124e-03 -2.5506591e-02 -1.4005326e-02  2.6925985e-02\n",
      "    4.9131062e-02  2.5982857e-03  3.6515776e-02 -1.4454603e-02\n",
      "   -4.8861086e-02  6.6421926e-05]]]\n"
     ]
    }
   ],
   "source": [
    "print(input_array)\n",
    "print(output_array)"
   ]
  }
 ],
 "metadata": {
  "kernelspec": {
   "display_name": "Python 3.6.13 ('nlp')",
   "language": "python",
   "name": "python3"
  },
  "language_info": {
   "codemirror_mode": {
    "name": "ipython",
    "version": 3
   },
   "file_extension": ".py",
   "mimetype": "text/x-python",
   "name": "python",
   "nbconvert_exporter": "python",
   "pygments_lexer": "ipython3",
   "version": "3.6.13"
  },
  "orig_nbformat": 4,
  "vscode": {
   "interpreter": {
    "hash": "04ef4f95052bc14c2a6093cbd188019300ce4f6c85f9bbc5b12d09e49dbdf28e"
   }
  }
 },
 "nbformat": 4,
 "nbformat_minor": 2
}
