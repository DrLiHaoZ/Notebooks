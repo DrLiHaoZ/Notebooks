{
 "cells": [
  {
   "cell_type": "code",
   "execution_count": 11,
   "metadata": {},
   "outputs": [],
   "source": [
    "import tensorflow as tf\n",
    "import sympy as sym"
   ]
  },
  {
   "cell_type": "markdown",
   "metadata": {},
   "source": [
    "求$f(x) = 2x^4$在$x=2$处的导数"
   ]
  },
  {
   "cell_type": "code",
   "execution_count": 12,
   "metadata": {},
   "outputs": [
    {
     "data": {
      "text/latex": [
       "$\\displaystyle 64$"
      ],
      "text/plain": [
       "64"
      ]
     },
     "execution_count": 12,
     "metadata": {},
     "output_type": "execute_result"
    }
   ],
   "source": [
    "x = sym.Symbol('x')\n",
    "y = 2 * x ** 4\n",
    "dy = sym.diff(y)\n",
    "dy.subs(x,2)"
   ]
  },
  {
   "cell_type": "code",
   "execution_count": 23,
   "metadata": {},
   "outputs": [
    {
     "name": "stdout",
     "output_type": "stream",
     "text": [
      "tf.Tensor(64.0, shape=(), dtype=float32)\n",
      "tf.Tensor(96.0, shape=(), dtype=float32)\n"
     ]
    }
   ],
   "source": [
    "# 使用GradientTape\n",
    "x = tf.Variable(2.0)\n",
    "\n",
    "with tf.GradientTape() as tape1:\n",
    "    with tf.GradientTape() as tape2:\n",
    "        y = 2 * x ** 4\n",
    "        dy_dx = tape2.gradient(y,x)\n",
    "    d2y_dx2 = tape1.gradient(dy_dx,x)\n",
    "print(dy_dx)\n",
    "print(d2y_dx2)\n"
   ]
  }
 ],
 "metadata": {
  "interpreter": {
   "hash": "bc00d93549840f82d8acc721d5c7e03f45705ab4bd4c4e913c35136c2ef2ccbe"
  },
  "kernelspec": {
   "display_name": "Python 3.9.7 64-bit ('learn': conda)",
   "language": "python",
   "name": "python3"
  },
  "language_info": {
   "codemirror_mode": {
    "name": "ipython",
    "version": 3
   },
   "file_extension": ".py",
   "mimetype": "text/x-python",
   "name": "python",
   "nbconvert_exporter": "python",
   "pygments_lexer": "ipython3",
   "version": "3.9.10"
  },
  "orig_nbformat": 4
 },
 "nbformat": 4,
 "nbformat_minor": 2
}
