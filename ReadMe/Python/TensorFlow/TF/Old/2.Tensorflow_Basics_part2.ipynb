{
 "cells": [
  {
   "cell_type": "code",
   "execution_count": null,
   "metadata": {},
   "outputs": [],
   "source": [
    "import numpy as np\n",
    "import tensorflow as tf"
   ]
  },
  {
   "cell_type": "markdown",
   "metadata": {},
   "source": [
    "## change the dtype of tensor"
   ]
  },
  {
   "cell_type": "code",
   "execution_count": null,
   "metadata": {},
   "outputs": [],
   "source": [
    "a = tf.constant([1,2])\n",
    "print(a.dtype)\n",
    "b = tf.constant([1.0,2.0])\n",
    "print(b.dtype)\n",
    "\n",
    "# here we know that the default dtype for tensor is int32 & float32"
   ]
  },
  {
   "cell_type": "code",
   "execution_count": null,
   "metadata": {},
   "outputs": [],
   "source": [
    "# use the tf.cast to change the dtype of tensor\n",
    "x = tf.constant([1.2,3.4,5.6],dtype=tf.float32)\n",
    "print(x)\n",
    "print(tf.cast(x,dtype = tf.int32))"
   ]
  },
  {
   "cell_type": "markdown",
   "metadata": {},
   "source": [
    "## aggregating tensor\n",
    "* get the minimum\n",
    "* get the maximum\n",
    "* get the mean\n",
    "* get the sum\n"
   ]
  },
  {
   "cell_type": "code",
   "execution_count": null,
   "metadata": {},
   "outputs": [],
   "source": [
    "# produce a random tensor using numpy\n",
    "a = tf.constant(np.random.randint(0,5,10).reshape(2,-1))\n",
    "a = tf.cast(a,dtype = tf.float32)\n",
    "print(\"\\nthe original tensor is:\\n\",a)\n",
    "print(\"\\nthe shape of tensor is :\\n\",a.shape)\n",
    "print(\"\\nget mean in the last dimension:\\n\",tf.reduce_mean(a,axis = -1))\n",
    "print(\"\\nget mean in the last dimension:\\n\", tf.reduce_mean(a, axis= 0))\n",
    "\n",
    "## with the understanding of dimension, we can now fully understand the meaning of reduce_xx()\n",
    "\n"
   ]
  },
  {
   "cell_type": "markdown",
   "metadata": {},
   "source": [
    "## find the positional maximun"
   ]
  },
  {
   "cell_type": "code",
   "execution_count": null,
   "metadata": {},
   "outputs": [],
   "source": [
    "a = tf.constant(np.random.randint(0, 5, 10).reshape(2, -1))\n",
    "a = tf.cast(a, dtype=tf.float32)\n",
    "print(\"\\nthe original tensor is:\\n\", a)\n",
    "print(\"\\nthe positional maxinum on axis 0 is \",tf.argmax(a,axis = 0))\n",
    "print(\"\\nthe positional maxinum on axis -1 is \", tf.argmax(a, axis=-1))\n"
   ]
  },
  {
   "cell_type": "code",
   "execution_count": null,
   "metadata": {},
   "outputs": [],
   "source": [
    "# you can also find positional maximum in numpy\n",
    "np.random.seed(12)\n",
    "a = np.random.randint(0,10,15).reshape(3,-1)\n",
    "print(\"\\nthe original array is :\\n\",a)\n",
    "max_position_last_axis = np.argmax(a,axis = -1)\n",
    "print(\"\\nthe max_position_last_axis is :\\n\", max_position_last_axis)\n",
    "print(\"\\nthe shape of a is :\\n\",a.shape)"
   ]
  },
  {
   "cell_type": "markdown",
   "metadata": {},
   "source": [
    "## Squeezing a tensor"
   ]
  },
  {
   "cell_type": "code",
   "execution_count": 66,
   "metadata": {},
   "outputs": [
    {
     "name": "stdout",
     "output_type": "stream",
     "text": [
      "tf.Tensor(\n",
      "[0.56007934 0.48842907 0.6764252  0.77617335 0.0846144  0.8728471\n",
      " 0.4265746  0.24448144 0.6232929  0.78818154 0.7600857  0.39496183\n",
      " 0.24767447 0.45829153 0.62028515 0.6020349  0.29403293 0.15651107\n",
      " 0.24403179 0.08588374 0.24571085 0.09905779 0.679706   0.627239\n",
      " 0.6353357  0.87961483 0.8589798  0.2175976  0.801947   0.74564767\n",
      " 0.46508324 0.24065983 0.6186029  0.66376054 0.16705203 0.15717185\n",
      " 0.85504985 0.6408851  0.26937377 0.53841186 0.22791588 0.8987205\n",
      " 0.96832764 0.91974854 0.27432644 0.9019563  0.7602582  0.13544118\n",
      " 0.5480052  0.75801945], shape=(50,), dtype=float32)\n",
      "tf.Tensor(\n",
      "[0.56007934 0.48842907 0.6764252  0.77617335 0.0846144  0.8728471\n",
      " 0.4265746  0.24448144 0.6232929  0.78818154 0.7600857  0.39496183\n",
      " 0.24767447 0.45829153 0.62028515 0.6020349  0.29403293 0.15651107\n",
      " 0.24403179 0.08588374 0.24571085 0.09905779 0.679706   0.627239\n",
      " 0.6353357  0.87961483 0.8589798  0.2175976  0.801947   0.74564767\n",
      " 0.46508324 0.24065983 0.6186029  0.66376054 0.16705203 0.15717185\n",
      " 0.85504985 0.6408851  0.26937377 0.53841186 0.22791588 0.8987205\n",
      " 0.96832764 0.91974854 0.27432644 0.9019563  0.7602582  0.13544118\n",
      " 0.5480052  0.75801945], shape=(50,), dtype=float32)\n"
     ]
    }
   ],
   "source": [
    "a = tf.constant(tf.random.uniform(shape = [50]),shape = (1,1,1,1,50,1,1))\n",
    "\n",
    "# you can use the tf.squeeze function to remove extra dimension with size of 1\n",
    "print(tf.squeeze(a))\n",
    "\n",
    "# you also can specify which dimension that you want to squeeze\n",
    "print(tf.squeeze(a,axis = [0,1,2,3,5,6]))"
   ]
  }
 ],
 "metadata": {
  "interpreter": {
   "hash": "1513c558104143c9342deba70e5828cd4c39a134479ea9220253fbe85c0c4494"
  },
  "kernelspec": {
   "display_name": "Python 3.9.7 64-bit ('nlp': conda)",
   "language": "python",
   "name": "python3"
  },
  "language_info": {
   "codemirror_mode": {
    "name": "ipython",
    "version": 3
   },
   "file_extension": ".py",
   "mimetype": "text/x-python",
   "name": "python",
   "nbconvert_exporter": "python",
   "pygments_lexer": "ipython3",
   "version": "3.9.7"
  },
  "orig_nbformat": 4
 },
 "nbformat": 4,
 "nbformat_minor": 2
}
