{
 "cells": [
  {
   "cell_type": "code",
   "execution_count": 1,
   "id": "2c7398aa",
   "metadata": {},
   "outputs": [],
   "source": [
    "import tensorflow as tf\n",
    "from tensorflow import keras\n",
    "from tensorflow.keras.preprocessing.text import Tokenizer\n"
   ]
  },
  {
   "cell_type": "code",
   "execution_count": 2,
   "id": "63e34d1a",
   "metadata": {},
   "outputs": [],
   "source": [
    "setences = [\"i love my dog\",\n",
    "            \"i love my cat\"]"
   ]
  },
  {
   "cell_type": "code",
   "execution_count": 4,
   "id": "5dc15d20",
   "metadata": {},
   "outputs": [
    {
     "name": "stdout",
     "output_type": "stream",
     "text": [
      "{'i': 1, 'love': 2, 'my': 3, 'dog': 4, 'cat': 5}\n"
     ]
    }
   ],
   "source": [
    "tokenizer = Tokenizer(num_words = 10) # the number of words wo be tokenized\n",
    "tokenizer.fit_on_texts(setences)\n",
    "word_index = tokenizer.word_index\n",
    "print(word_index)"
   ]
  },
  {
   "cell_type": "code",
   "execution_count": 7,
   "id": "770d87e6",
   "metadata": {},
   "outputs": [
    {
     "name": "stdout",
     "output_type": "stream",
     "text": [
      "[[1, 2, 3, 4], [1, 2, 3, 5]]\n",
      "[[4]]\n"
     ]
    }
   ],
   "source": [
    "sequences = tokenizer.texts_to_sequences(setences)\n",
    "print(sequences)\n",
    "\n",
    "new_setences = [\"hello he loves his dog\"]\n",
    "sequences = tokenizer.texts_to_sequences(new_setences)\n",
    "print(sequences)\n",
    "\n",
    "# if the new setences dont include the word in the tokenizer, it will be omitted , the sequences will be shortened"
   ]
  },
  {
   "cell_type": "code",
   "execution_count": 8,
   "id": "b5f6a7b5",
   "metadata": {},
   "outputs": [
    {
     "name": "stdout",
     "output_type": "stream",
     "text": [
      "{'<OOV>': 1, 'i': 2, 'love': 3, 'my': 4, 'dog': 5, 'cat': 6}\n"
     ]
    }
   ],
   "source": [
    "# to fix this, we can use oov token\n",
    "tokenizer = Tokenizer(num_words = 10, oov_token = \"<OOV>\") # the number of words wo be tokenized\n",
    "tokenizer.fit_on_texts(setences)\n",
    "word_index = tokenizer.word_index\n",
    "print(word_index)"
   ]
  },
  {
   "cell_type": "code",
   "execution_count": 12,
   "id": "f572fa00",
   "metadata": {},
   "outputs": [
    {
     "name": "stdout",
     "output_type": "stream",
     "text": [
      "[[1, 1, 1, 1, 5], [2, 3, 4, 5], [2, 3, 4, 6], [4, 5, 3, 1, 1, 1]]\n"
     ]
    }
   ],
   "source": [
    "new_setences = [\"hello he loves his dog\",\n",
    "               \"i love my dog\",\n",
    "               \"i love my cat\",\n",
    "                \"my dog love you and dnot\"]\n",
    "sequences = tokenizer.texts_to_sequences(new_setences)\n",
    "print(sequences)"
   ]
  },
  {
   "cell_type": "code",
   "execution_count": null,
   "id": "92238f03",
   "metadata": {},
   "outputs": [],
   "source": [
    "# if we need the sequences to be the same length, we can use the padding "
   ]
  },
  {
   "cell_type": "code",
   "execution_count": 11,
   "id": "68523367",
   "metadata": {},
   "outputs": [],
   "source": [
    "from tensorflow.keras.preprocessing.sequence import pad_sequences"
   ]
  },
  {
   "cell_type": "code",
   "execution_count": 13,
   "id": "4852384d",
   "metadata": {},
   "outputs": [
    {
     "name": "stdout",
     "output_type": "stream",
     "text": [
      "[[1, 1, 1, 1, 5], [2, 3, 4, 5], [2, 3, 4, 6], [4, 5, 3, 1, 1, 1]]\n",
      "[[0 1 1 1 1 5]\n",
      " [0 0 2 3 4 5]\n",
      " [0 0 2 3 4 6]\n",
      " [4 5 3 1 1 1]]\n"
     ]
    }
   ],
   "source": [
    "print(sequences)\n",
    "print(pad_sequences(sequences))"
   ]
  },
  {
   "cell_type": "code",
   "execution_count": null,
   "id": "455fffea",
   "metadata": {},
   "outputs": [],
   "source": []
  }
 ],
 "metadata": {
  "interpreter": {
   "hash": "1513c558104143c9342deba70e5828cd4c39a134479ea9220253fbe85c0c4494"
  },
  "kernelspec": {
   "display_name": "Python 3.9.7 64-bit ('nlp': conda)",
   "name": "python3"
  },
  "language_info": {
   "codemirror_mode": {
    "name": "ipython",
    "version": 3
   },
   "file_extension": ".py",
   "mimetype": "text/x-python",
   "name": "python",
   "nbconvert_exporter": "python",
   "pygments_lexer": "ipython3",
   "version": "3.9.7"
  }
 },
 "nbformat": 4,
 "nbformat_minor": 5
}
