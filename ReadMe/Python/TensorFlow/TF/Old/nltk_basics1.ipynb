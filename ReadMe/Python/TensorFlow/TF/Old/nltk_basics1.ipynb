{
 "cells": [
  {
   "cell_type": "code",
   "execution_count": 7,
   "id": "64e60ab7",
   "metadata": {},
   "outputs": [],
   "source": [
    "from nltk import sent_tokenize, word_tokenize\n",
    "import jieba"
   ]
  },
  {
   "cell_type": "code",
   "execution_count": 12,
   "id": "23abe74c",
   "metadata": {},
   "outputs": [
    {
     "name": "stdout",
     "output_type": "stream",
     "text": [
      "['Hello,Mr.Smith,how are you doing today.', 'The weather is great today.']\n",
      "['Hello', ',', 'Mr.Smith', ',', 'how', 'are', 'you', 'doing', 'today', '.', 'The', 'weather', 'is', 'great', 'today', '.']\n",
      "你好.，.史密斯.先生.。.今天天气.很.好.。.我.很.欣赏.你.。\n"
     ]
    }
   ],
   "source": [
    "example_text_eng = \"Hello,Mr.Smith,how are you doing today. The weather is great today.\"\n",
    "example_text_mand = \"你好，史密斯先生。今天天气很好。我很欣赏你。\"\n",
    "print(sent_tokenize(example_text_eng))\n",
    "print(word_tokenize(example_text_eng))\n",
    "print('.'.join(jieba.cut(example_text_mand)))"
   ]
  },
  {
   "cell_type": "code",
   "execution_count": 18,
   "id": "f80f7d77",
   "metadata": {},
   "outputs": [
    {
     "name": "stdout",
     "output_type": "stream",
     "text": [
      "心脏$$骤停$$（$$CA$$）$$是$$指$$心脏$$射血$$功能$$突然$$终止$$，$$造成$$全身$$血液$$循环$$血液循环$$中断$$、$$呼吸$$停止$$和$$意识$$丧失$$。$$导致$$心$$ $$脏骤$$停$$的$$病理$$生理$$机制$$生理机制$$最$$常见$$的$$为$$快速$$型$$室性$$心律$$失常$$心律失常$$（$$室颤$$和$$室速$$）$$，$$其次$$为$$缓慢$$型$$心律$$失常$$心律失常$$或$$心脏$$停$$ $$搏$$，$$较$$少见$$的$$为$$无脉$$性电$$活动$$（$$PEA$$）$$。$$心脏$$骤停$$发生$$后$$，$$由于$$脑$$血流$$突然$$中断$$，$$10$$ $$左右$$秒左右$$病人$$即可$$出现$$意$$ $$识$$丧失$$，$$如$$在$$ $$4$$-$$6$$ $$分钟$$黄金$$时段$$及时$$救治$$存活$$概率$$较$$高$$，$$否则$$将$$发生$$生物$$生物学$$死亡$$，$$罕见$$自发$$逆转$$者$$。$$心脏$$ $$骤$$停常$$是$$心脏$$性$$猝死$$的$$直接$$原因$$.\n"
     ]
    }
   ],
   "source": [
    "example_text_med_mand = \"心脏骤停（CA）是指心脏射血功能突然终止，造成全身血液循环中断、呼吸停止和意识丧失。导致心 脏骤停的病理生理机制最常见的为快速型室性心律失常（室颤和室速），其次为缓慢型心律失常或心脏停 搏，较少见的为无脉性电活动（PEA）。心脏骤停发生后，由于脑血流突然中断，10 秒左右病人即可出现意 识丧失，如在 4-6 分钟黄金时段及时救治存活概率较高，否则将发生生物学死亡，罕见自发逆转者。心脏 骤停常是心脏性猝死的直接原因.\"\n",
    "print('$$'.join(jieba.lcut_for_search(example_text_med_mand)))\n"
   ]
  },
  {
   "cell_type": "code",
   "execution_count": null,
   "id": "7a965f80",
   "metadata": {},
   "outputs": [],
   "source": []
  },
  {
   "cell_type": "code",
   "execution_count": null,
   "id": "df13bd14",
   "metadata": {},
   "outputs": [],
   "source": []
  }
 ],
 "metadata": {
  "kernelspec": {
   "display_name": "Python 3 (ipykernel)",
   "language": "python",
   "name": "python3"
  },
  "language_info": {
   "codemirror_mode": {
    "name": "ipython",
    "version": 3
   },
   "file_extension": ".py",
   "mimetype": "text/x-python",
   "name": "python",
   "nbconvert_exporter": "python",
   "pygments_lexer": "ipython3",
   "version": "3.9.7"
  }
 },
 "nbformat": 4,
 "nbformat_minor": 5
}
