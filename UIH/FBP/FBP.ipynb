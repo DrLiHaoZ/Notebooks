{
 "cells": [
  {
   "cell_type": "code",
   "execution_count": null,
   "metadata": {},
   "outputs": [],
   "source": [
    "import numpy as np\n",
    "import matplotlib.pyplot as plt\n",
    "from scipy import fftpack"
   ]
  },
  {
   "cell_type": "code",
   "execution_count": null,
   "metadata": {},
   "outputs": [],
   "source": [
    "# 定义常量\n",
    "theta_range = np.pi\n",
    "n_angles = 180\n",
    "n_pixels = 128\n",
    "r_max = n_pixels / 2"
   ]
  },
  {
   "cell_type": "code",
   "execution_count": null,
   "metadata": {},
   "outputs": [],
   "source": [
    "# 定义将投影数据转换为图像的函数\n",
    "def backproject(projections, angles):\n",
    "    image = np.zeros((n_pixels, n_pixels))\n",
    "    x, y = np.indices((n_pixels, n_pixels))\n",
    "    x = x - n_pixels / 2\n",
    "    y = y - n_pixels / 2\n",
    "    for i in range(n_angles):\n",
    "        angle = angles[i]\n",
    "        projection = projections[:, i]\n",
    "        cos_theta = np.cos(angle)\n",
    "        sin_theta = np.sin(angle)\n",
    "        r = x * cos_theta + y * sin_theta\n",
    "        r += r_max\n",
    "        r = np.round(r).astype(int)\n",
    "        valid = np.logical_and(r >= 0, r < n_pixels)\n",
    "        image.flat[r[valid] * n_pixels + np.arange(n_pixels)[valid]] += projection[valid]\n",
    "    return image"
   ]
  },
  {
   "cell_type": "code",
   "execution_count": null,
   "metadata": {},
   "outputs": [],
   "source": [
    "# 生成模拟数据集\n",
    "projections = np.zeros((n_pixels, n_angles))\n",
    "x, y = np.indices((n_pixels, n_pixels))\n",
    "mask = (x - n_pixels / 2) ** 2 + (y - n_pixels / 2) ** 2 <= r_max ** 2\n",
    "for i in range(n_angles):\n",
    "    theta = i * theta_range / n_angles\n",
    "    xc = r_max * np.cos(theta) + n_pixels / 2\n",
    "    yc = r_max * np.sin(theta) + n_pixels / 2\n",
    "    line = np.linspace(-r_max, r_max, n_pixels)\n",
    "    x1 = xc - line * np.sin(theta)\n",
    "    y1 = yc + line * np.cos(theta)\n",
    "    projections[:, i] = mask[x1.astype(int), y1.astype(int)]"
   ]
  },
  {
   "cell_type": "code",
   "execution_count": 51,
   "metadata": {},
   "outputs": [
    {
     "data": {
      "text/plain": [
       "<matplotlib.collections.PathCollection at 0x2841250a680>"
      ]
     },
     "execution_count": 51,
     "metadata": {},
     "output_type": "execute_result"
    },
    {
     "data": {
      "image/png": "[encoded data removed]",
      "text/plain": [
       "<Figure size 640x480 with 1 Axes>"
      ]
     },
     "metadata": {},
     "output_type": "display_data"
    }
   ],
   "source": [
    "\n",
    "projections = np.zeros((n_pixels, n_angles))\n",
    "x, y = np.indices((n_pixels, n_pixels))\n",
    "mask = (x - n_pixels / 2) ** 2 + (y - n_pixels / 2) ** 2 <= r_max ** 2\n",
    "\n",
    "xc = []\n",
    "yc = []\n",
    "\n",
    "for i in range(n_angles):\n",
    "    theta = i * theta_range / n_angles\n",
    "    xc.append(r_max * np.cos(theta) + n_pixels / 2)\n",
    "    yc.append(r_max * np.sin(theta) + n_pixels / 2)\n",
    "\n",
    "plt.scatter(xc,yc)\n",
    "   "
   ]
  },
  {
   "cell_type": "code",
   "execution_count": 47,
   "metadata": {},
   "outputs": [
    {
     "ename": "TypeError",
     "evalue": "append() missing 1 required positional argument: 'values'",
     "output_type": "error",
     "traceback": [
      "\u001b[1;31m---------------------------------------------------------------------------\u001b[0m",
      "\u001b[1;31mTypeError\u001b[0m                                 Traceback (most recent call last)",
      "Cell \u001b[1;32mIn[47], line 2\u001b[0m\n\u001b[0;32m      1\u001b[0m a \u001b[39m=\u001b[39m np\u001b[39m.\u001b[39marray([])\n\u001b[1;32m----> 2\u001b[0m np\u001b[39m.\u001b[39;49mappend(\u001b[39m1\u001b[39;49m)\n\u001b[0;32m      3\u001b[0m a\n",
      "File \u001b[1;32m<__array_function__ internals>:198\u001b[0m, in \u001b[0;36mappend\u001b[1;34m(*args, **kwargs)\u001b[0m\n",
      "\u001b[1;31mTypeError\u001b[0m: append() missing 1 required positional argument: 'values'"
     ]
    }
   ],
   "source": [
    "a = np.array([])\n",
    "np.append(1)\n",
    "a"
   ]
  },
  {
   "cell_type": "code",
   "execution_count": null,
   "metadata": {},
   "outputs": [],
   "source": [
    "# 对投影数据进行滤波\n",
    "projections = fftpack.fft(projections, axis=0)\n",
    "freqs = fftpack.fftfreq(n_pixels)[:, np.newaxis]\n",
    "ramp_filter = np.sqrt(freqs ** 2 + freqs.T ** 2)\n",
    "projections *= ramp_filter\n",
    "projections = fftpack.ifft(projections, axis=0).real\n",
    "\n",
    "# 进行反投影\n",
    "angles = np.linspace(0, theta_range, n_angles, endpoint=False)\n",
    "image = backproject(projections, angles)\n",
    "\n",
    "# 显示结果\n",
    "plt.imshow(image, cmap=plt.cm.gray)\n",
    "plt.show()"
   ]
  },
  {
   "cell_type": "code",
   "execution_count": null,
   "metadata": {},
   "outputs": [],
   "source": [
    "np.indices((3,2))\n"
   ]
  }
 ],
 "metadata": {
  "kernelspec": {
   "display_name": "tomo",
   "language": "python",
   "name": "python3"
  },
  "language_info": {
   "codemirror_mode": {
    "name": "ipython",
    "version": 3
   },
   "file_extension": ".py",
   "mimetype": "text/x-python",
   "name": "python",
   "nbconvert_exporter": "python",
   "pygments_lexer": "ipython3",
   "version": "3.10.10"
  },
  "orig_nbformat": 4
 },
 "nbformat": 4,
 "nbformat_minor": 2
}
